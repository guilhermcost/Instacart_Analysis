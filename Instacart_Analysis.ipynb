{
 "cells": [
  {
   "cell_type": "markdown",
   "id": "e644eeab",
   "metadata": {},
   "source": [
    "<div class=\"alert alert-info\">\n",
    "<strong>Comentário do estudante v1</strong>\n",
    "\n",
    "Olá, Rafael!\n",
    "    \n",
    "Aproveito o ensejo para me apresentar também. Sou Guilherme Costa, tenho 26 anos, sou Engenheiro da Computação e um grande entusiasta da área de ciência de Dados. Estou empenhado em me tornar um excelente cientista de dados.\n",
    "    \n",
    "Obrigado pelos seus feedbacks!\n",
    "</div>\n"
   ]
  },
  {
   "cell_type": "markdown",
   "id": "fa40960c",
   "metadata": {},
   "source": [
    "\n",
    "\n",
    "Olá estudante!\n",
    "\n",
    "Me chamo Rafael Meirelles e irei revisar o seu projeto hoje e em eventuais futuras submissões até que ele cumpra todos os requisitos para o aceite.\n",
    "Conte comigo nessa jornada e não se preocupe se precisar ajustar alguns detalhes, é parte do processo e fundamental para que você exercite os conceitos que vem aprendendo e assim melhore a qualidade dos seus códigos e análises.\n",
    "\n",
    "**Peço que mantenha e não altereos comentários que eu fizer por aqui para que possamos nos localizar posteriormente, ok?**\n",
    "\n",
    "Mais uma coisa, vamos utilizar um código de cores para você entender os meus feedbacks no seu notebook. Funciona assim:\n",
    "\n",
    "\n",
    "<div class=\"alert alert-danger\">\n",
    "<strong>Vermelho</strong>\n",
    "\n",
    "Erro que precisa ser consertado, caso contrário, seu projeto não pode ser aceito\n",
    "\n",
    "</div>\n",
    "\n",
    "<div class=\"alert alert-warning\">\n",
    "<strong>Amarelo</strong>\n",
    "\n",
    "Alerta de um erro não crítco, mas que pode ser corrigido para melhoria geral no seu código/análise\n",
    "\n",
    "</div>\n",
    "\n",
    "<div class=\"alert alert-success\">\n",
    "<strong>Verde</strong>\n",
    "\n",
    "Elogios\n",
    "</div>\n",
    "\n",
    "<div class=\"alert alert-info\">\n",
    "<strong>Comentário do estudante</strong>\n",
    "\n",
    "Use uma caixa azul como essa para eventuais comentários que você gostaria de fazer para mim.\n",
    "</div>\n",
    "\n"
   ]
  },
  {
   "cell_type": "markdown",
   "id": "3Xg_RQfnafXz",
   "metadata": {
    "id": "3Xg_RQfnafXz"
   },
   "source": [
    "\n",
    "\n",
    "\n",
    "# Vamos encher o carrinho!"
   ]
  },
  {
   "cell_type": "markdown",
   "id": "mhIvmmkW414q",
   "metadata": {
    "id": "mhIvmmkW414q"
   },
   "source": [
    "# Introdução\n",
    "\n",
    "A Instacart é uma plataforma de entrega de supermercado onde os clientes podem fazer um pedido de supermercado e receber a compra em casa, semelhante ao funcionamento do Uber Eats e do iFood. O conjunto de dados que fornecemos a você foi modificado do original. Reduzimos o tamanho do conjunto de dados para que seus cálculos sejam executados mais rapidamente e introduzimos valores ausentes e duplicados. Também tivemos o cuidado de preservar as distribuições dos dados originais quando fizemos as alterações.\n",
    "\n",
    "Você precisa completar três etapas. Para cada uma delas, escreva uma breve introdução descrevendo como você pretende concluir a etapa e justifique suas decisões em parágrafos explicativos intermédios a medida que você avança na solução. Escreva também uma conclusão para resumir suas conclusões e escolhas.\n",
    "\n"
   ]
  },
  {
   "cell_type": "markdown",
   "id": "3MbyzpOQZ5Or",
   "metadata": {
    "id": "3MbyzpOQZ5Or"
   },
   "source": [
    "## Dicionário de dados\n",
    "\n",
    "Há cinco tabelas no conjunto de dados, e você vai precisar usar todas elas para pré-processar os dados e fazer a AED. Abaixo está um dicionário que lista as colunas de cada tabela e descreve os dados contidos nelas.\n",
    "\n",
    "- `instacart_orders.csv`: cada linha corresponde a um pedido no aplicativo da Instacart\n",
    "    - `'order_id'`: é o número de identificação unívoco de cada pedido\n",
    "    - `'user_id'`: é o número de identificação unívoco da conta de cada cliente\n",
    "    - `'order_number'`: é o número de vezes que o cliente fez um pedido\n",
    "    - `'order_dow'`: é o dia da semana em que o pedido foi feito (0 é domingo)\n",
    "    - `'order_hour_of_day'`: é a hora do dia em que o pedido foi feito\n",
    "    - `'days_since_prior_order'`: é o número de dias desde que o cliente fez seu pedido anterior\n",
    "\n",
    "\n",
    "\n",
    "\n",
    "- `products.csv`: cada linha corresponde a um produto unívoco que os clientes podem comprar\n",
    "    - `'product_id'`: é o número de identificação unívoco de cada produto\n",
    "    - `'product_name'`: é o nome do produto\n",
    "    - `'aisle_id'`: é o número de identificação unívoco de cada categoria de seção do supermercado\n",
    "    - `'department_id'`: é o número de identificação unívoco de cada categoria de departamento do supermercado\n",
    "\n",
    "\n",
    "\n",
    "\n",
    "-\t`order_products.csv`: cada linha corresponde a um item incluído em um pedido\n",
    "    -\t`'order_id'`: é o número de identificação unívoco de cada pedido\n",
    "    -\t`'product_id'`: é o número de identificação unívoco de cada produto\n",
    "    -\t`'add_to_cart_order'`: é a ordem sequencial em que cada item foi colocado no carrinho\n",
    "    -\t`'reordered'`: 0 se o cliente nunca comprou o produto antes, 1 se já o comprou\n",
    "\n",
    "\n",
    "\n",
    "\n",
    "-\t`aisles.csv`\n",
    "    -\t`'aisle_id'`: é o número de identificação unívoco de cada categoria de seção do supermercado\n",
    "    -\t`'aisle'`: é o nome da seção\n",
    "\n",
    "\n",
    "\n",
    "-\t`departments.csv`\n",
    "    -\t`'department_id'`: é o número de identificação unívoco de cada categoria de departamento do supermercado\n",
    "    -\t`'department'`: é o nome do departamento\n"
   ]
  },
  {
   "cell_type": "markdown",
   "id": "n3Ha_cNSZ8lK",
   "metadata": {
    "id": "n3Ha_cNSZ8lK"
   },
   "source": [
    "# Etapa 1. Visão geral dos dados\n",
    "\n",
    "Leia os arquivos de dados (/datasets/instacart_orders.csv, /datasets/products.csv, /datasets/aisles.csv, /datasets/departments.csv e /datasets/order_products.csv) com `pd.read_csv()` usando os parâmetros apropriados para fazer isso corretamente. Verifique as informações para cada DataFrame criado.\n"
   ]
  },
  {
   "cell_type": "markdown",
   "id": "OmlQPLlyaAfR",
   "metadata": {
    "id": "OmlQPLlyaAfR"
   },
   "source": [
    "## Plano de solução\n",
    "\n",
    "Escreva aqui seu plano para a Etapa 1. Visão geral dos dados"
   ]
  },
  {
   "cell_type": "markdown",
   "id": "baf15cdf",
   "metadata": {},
   "source": [
    "**RESPOSTA: Na fase 1 pretende-se ter uma ideia do conteúdo geral dos dados e a pensar nas perguntas iniciais a serem exploradas. Para isso, primeiro iremos realizar a leitura dos dados com o método da biblioteca Pandas read_csv(), passando como parâmetro do atributo \"sep\" o valor \";\", que é o separador utilizado nos arquivos .csv. Em seguida, utilizei o método info() para imprimir informações gerais dos Dataframe, tais como: número de linhas, número de colunas, nome de cada coluna e número de valores em cada coluna que não estão ausentes e tipo de dados de cada coluna.**"
   ]
  },
  {
   "cell_type": "code",
   "execution_count": 1,
   "id": "fbf1adab",
   "metadata": {
    "id": "fbf1adab"
   },
   "outputs": [],
   "source": [
    "# Importe as bibliotecas\n",
    "import pandas as pd\n",
    "import numpy as np\n",
    "from matplotlib import pyplot as plt"
   ]
  },
  {
   "cell_type": "code",
   "execution_count": 2,
   "id": "ad36396d",
   "metadata": {
    "id": "ad36396d"
   },
   "outputs": [],
   "source": [
    "# leia os conjuntos de dados em DataFrames\n",
    "orders_df = pd.read_csv('datasets/instacart_orders.csv')\n",
    "products_df = pd.read_csv('datasets/products.csv')\n",
    "order_product_df = pd.read_csv('datasets/order_products.csv')\n",
    "aisles_df = pd.read_csv('datasets/aisles.csv')\n",
    "departments_df = pd.read_csv('datasets/departments.csv')"
   ]
  },
  {
   "cell_type": "code",
   "execution_count": 3,
   "id": "ad6a1efa",
   "metadata": {
    "id": "ad6a1efa"
   },
   "outputs": [
    {
     "name": "stdout",
     "output_type": "stream",
     "text": [
      "<class 'pandas.core.frame.DataFrame'>\n",
      "RangeIndex: 478967 entries, 0 to 478966\n",
      "Data columns (total 6 columns):\n",
      " #   Column                  Non-Null Count   Dtype  \n",
      "---  ------                  --------------   -----  \n",
      " 0   order_id                478967 non-null  int64  \n",
      " 1   user_id                 478967 non-null  int64  \n",
      " 2   order_number            478967 non-null  int64  \n",
      " 3   order_dow               478967 non-null  int64  \n",
      " 4   order_hour_of_day       478967 non-null  int64  \n",
      " 5   days_since_prior_order  450148 non-null  float64\n",
      "dtypes: float64(1), int64(5)\n",
      "memory usage: 21.9 MB\n",
      "None\n",
      "\n",
      "        order_id  user_id  order_number  order_dow  order_hour_of_day  \\\n",
      "32093    1658039    58980            17          6                 18   \n",
      "433457    458929   151374             2          0                 11   \n",
      "445460   3089233    12012            29          6                 13   \n",
      "402351   2376303    65166             7          1                  7   \n",
      "188765   2596895    77951             8          3                 18   \n",
      "\n",
      "        days_since_prior_order  \n",
      "32093                      7.0  \n",
      "433457                    17.0  \n",
      "445460                    30.0  \n",
      "402351                     7.0  \n",
      "188765                    30.0  \n"
     ]
    }
   ],
   "source": [
    "# imprima as informações sobre o DataFrame\n",
    "print(orders_df.info(), orders_df.sample(5), sep = '\\n\\n')"
   ]
  },
  {
   "cell_type": "code",
   "execution_count": 4,
   "id": "8702b230",
   "metadata": {},
   "outputs": [],
   "source": [
    "##Para utilizar o describe, primeiro vamos converter \"order_id\" e \"user_id\" para object, uma vez que essas são variáveis \n",
    "##categóricas\n",
    "\n",
    "orders_df['order_id'] = orders_df['order_id'].astype('object')\n",
    "orders_df['user_id'] = orders_df['user_id'].astype('object')"
   ]
  },
  {
   "cell_type": "code",
   "execution_count": 5,
   "id": "64b2bbc7",
   "metadata": {},
   "outputs": [
    {
     "data": {
      "text/html": [
       "<div>\n",
       "<style scoped>\n",
       "    .dataframe tbody tr th:only-of-type {\n",
       "        vertical-align: middle;\n",
       "    }\n",
       "\n",
       "    .dataframe tbody tr th {\n",
       "        vertical-align: top;\n",
       "    }\n",
       "\n",
       "    .dataframe thead th {\n",
       "        text-align: right;\n",
       "    }\n",
       "</style>\n",
       "<table border=\"1\" class=\"dataframe\">\n",
       "  <thead>\n",
       "    <tr style=\"text-align: right;\">\n",
       "      <th></th>\n",
       "      <th>order_id</th>\n",
       "      <th>user_id</th>\n",
       "      <th>order_number</th>\n",
       "      <th>order_dow</th>\n",
       "      <th>order_hour_of_day</th>\n",
       "      <th>days_since_prior_order</th>\n",
       "    </tr>\n",
       "  </thead>\n",
       "  <tbody>\n",
       "    <tr>\n",
       "      <th>count</th>\n",
       "      <td>478967.0</td>\n",
       "      <td>478967.0</td>\n",
       "      <td>478967.000000</td>\n",
       "      <td>478967.000000</td>\n",
       "      <td>478967.000000</td>\n",
       "      <td>450148.000000</td>\n",
       "    </tr>\n",
       "    <tr>\n",
       "      <th>unique</th>\n",
       "      <td>478952.0</td>\n",
       "      <td>157437.0</td>\n",
       "      <td>NaN</td>\n",
       "      <td>NaN</td>\n",
       "      <td>NaN</td>\n",
       "      <td>NaN</td>\n",
       "    </tr>\n",
       "    <tr>\n",
       "      <th>top</th>\n",
       "      <td>2282673.0</td>\n",
       "      <td>149605.0</td>\n",
       "      <td>NaN</td>\n",
       "      <td>NaN</td>\n",
       "      <td>NaN</td>\n",
       "      <td>NaN</td>\n",
       "    </tr>\n",
       "    <tr>\n",
       "      <th>freq</th>\n",
       "      <td>2.0</td>\n",
       "      <td>28.0</td>\n",
       "      <td>NaN</td>\n",
       "      <td>NaN</td>\n",
       "      <td>NaN</td>\n",
       "      <td>NaN</td>\n",
       "    </tr>\n",
       "    <tr>\n",
       "      <th>mean</th>\n",
       "      <td>NaN</td>\n",
       "      <td>NaN</td>\n",
       "      <td>17.157808</td>\n",
       "      <td>2.775058</td>\n",
       "      <td>13.446676</td>\n",
       "      <td>11.101751</td>\n",
       "    </tr>\n",
       "    <tr>\n",
       "      <th>std</th>\n",
       "      <td>NaN</td>\n",
       "      <td>NaN</td>\n",
       "      <td>17.704688</td>\n",
       "      <td>2.045869</td>\n",
       "      <td>4.224986</td>\n",
       "      <td>9.189975</td>\n",
       "    </tr>\n",
       "    <tr>\n",
       "      <th>min</th>\n",
       "      <td>NaN</td>\n",
       "      <td>NaN</td>\n",
       "      <td>1.000000</td>\n",
       "      <td>0.000000</td>\n",
       "      <td>0.000000</td>\n",
       "      <td>0.000000</td>\n",
       "    </tr>\n",
       "    <tr>\n",
       "      <th>25%</th>\n",
       "      <td>NaN</td>\n",
       "      <td>NaN</td>\n",
       "      <td>5.000000</td>\n",
       "      <td>1.000000</td>\n",
       "      <td>10.000000</td>\n",
       "      <td>4.000000</td>\n",
       "    </tr>\n",
       "    <tr>\n",
       "      <th>50%</th>\n",
       "      <td>NaN</td>\n",
       "      <td>NaN</td>\n",
       "      <td>11.000000</td>\n",
       "      <td>3.000000</td>\n",
       "      <td>13.000000</td>\n",
       "      <td>7.000000</td>\n",
       "    </tr>\n",
       "    <tr>\n",
       "      <th>75%</th>\n",
       "      <td>NaN</td>\n",
       "      <td>NaN</td>\n",
       "      <td>23.000000</td>\n",
       "      <td>5.000000</td>\n",
       "      <td>16.000000</td>\n",
       "      <td>15.000000</td>\n",
       "    </tr>\n",
       "    <tr>\n",
       "      <th>max</th>\n",
       "      <td>NaN</td>\n",
       "      <td>NaN</td>\n",
       "      <td>100.000000</td>\n",
       "      <td>6.000000</td>\n",
       "      <td>23.000000</td>\n",
       "      <td>30.000000</td>\n",
       "    </tr>\n",
       "  </tbody>\n",
       "</table>\n",
       "</div>"
      ],
      "text/plain": [
       "         order_id   user_id   order_number      order_dow  order_hour_of_day  \\\n",
       "count    478967.0  478967.0  478967.000000  478967.000000      478967.000000   \n",
       "unique   478952.0  157437.0            NaN            NaN                NaN   \n",
       "top     2282673.0  149605.0            NaN            NaN                NaN   \n",
       "freq          2.0      28.0            NaN            NaN                NaN   \n",
       "mean          NaN       NaN      17.157808       2.775058          13.446676   \n",
       "std           NaN       NaN      17.704688       2.045869           4.224986   \n",
       "min           NaN       NaN       1.000000       0.000000           0.000000   \n",
       "25%           NaN       NaN       5.000000       1.000000          10.000000   \n",
       "50%           NaN       NaN      11.000000       3.000000          13.000000   \n",
       "75%           NaN       NaN      23.000000       5.000000          16.000000   \n",
       "max           NaN       NaN     100.000000       6.000000          23.000000   \n",
       "\n",
       "        days_since_prior_order  \n",
       "count            450148.000000  \n",
       "unique                     NaN  \n",
       "top                        NaN  \n",
       "freq                       NaN  \n",
       "mean                 11.101751  \n",
       "std                   9.189975  \n",
       "min                   0.000000  \n",
       "25%                   4.000000  \n",
       "50%                   7.000000  \n",
       "75%                  15.000000  \n",
       "max                  30.000000  "
      ]
     },
     "execution_count": 5,
     "metadata": {},
     "output_type": "execute_result"
    }
   ],
   "source": [
    "# descrições numéricas de orders_df\n",
    "orders_df.describe(include = 'all')"
   ]
  },
  {
   "cell_type": "code",
   "execution_count": 6,
   "id": "5130e05e",
   "metadata": {
    "id": "5130e05e",
    "scrolled": true
   },
   "outputs": [
    {
     "name": "stdout",
     "output_type": "stream",
     "text": [
      "<class 'pandas.core.frame.DataFrame'>\n",
      "RangeIndex: 49694 entries, 0 to 49693\n",
      "Data columns (total 4 columns):\n",
      " #   Column         Non-Null Count  Dtype \n",
      "---  ------         --------------  ----- \n",
      " 0   product_id     49694 non-null  int64 \n",
      " 1   product_name   48436 non-null  object\n",
      " 2   aisle_id       49694 non-null  int64 \n",
      " 3   department_id  49694 non-null  int64 \n",
      "dtypes: int64(3), object(1)\n",
      "memory usage: 1.5+ MB\n",
      "None\n",
      "\n",
      "       product_id                                       product_name  \\\n",
      "11204       11205                        Wasabi Powdered Horseradish   \n",
      "35068       35069  Morsels Healthy Indulgence With Chicken & Salm...   \n",
      "20381       20382                        Natural Honey Peanut Butter   \n",
      "24397       24398                      Endulge Caramel Nut Chew Bars   \n",
      "34848       34849                     Hot & Spicy Taco Seasoning Mix   \n",
      "\n",
      "       aisle_id  department_id  \n",
      "11204        66              6  \n",
      "35068        41              8  \n",
      "20381        88             13  \n",
      "24397         3             19  \n",
      "34848         5             13  \n"
     ]
    }
   ],
   "source": [
    "# imprima as informações sobre o DataFrame\n",
    "print(products_df.info(), products_df.sample(5), sep = '\\n\\n')"
   ]
  },
  {
   "cell_type": "code",
   "execution_count": 7,
   "id": "0cb0955e",
   "metadata": {},
   "outputs": [],
   "source": [
    "##Para utilizar o describe, primeiro vamos converter \"product_id\", \"aisle_id\" e \"department_id\" para object, uma vez que essas\n",
    "##são variáveis categóricas\n",
    "\n",
    "products_df['product_id'] = products_df['product_id'].astype('object')\n",
    "products_df['aisle_id'] = products_df['aisle_id'].astype('object')\n",
    "products_df['department_id'] = products_df['department_id'].astype('object')"
   ]
  },
  {
   "cell_type": "code",
   "execution_count": 8,
   "id": "cd35e8c6",
   "metadata": {},
   "outputs": [
    {
     "data": {
      "text/html": [
       "<div>\n",
       "<style scoped>\n",
       "    .dataframe tbody tr th:only-of-type {\n",
       "        vertical-align: middle;\n",
       "    }\n",
       "\n",
       "    .dataframe tbody tr th {\n",
       "        vertical-align: top;\n",
       "    }\n",
       "\n",
       "    .dataframe thead th {\n",
       "        text-align: right;\n",
       "    }\n",
       "</style>\n",
       "<table border=\"1\" class=\"dataframe\">\n",
       "  <thead>\n",
       "    <tr style=\"text-align: right;\">\n",
       "      <th></th>\n",
       "      <th>product_id</th>\n",
       "      <th>product_name</th>\n",
       "      <th>aisle_id</th>\n",
       "      <th>department_id</th>\n",
       "    </tr>\n",
       "  </thead>\n",
       "  <tbody>\n",
       "    <tr>\n",
       "      <th>count</th>\n",
       "      <td>49694</td>\n",
       "      <td>48436</td>\n",
       "      <td>49694</td>\n",
       "      <td>49694</td>\n",
       "    </tr>\n",
       "    <tr>\n",
       "      <th>unique</th>\n",
       "      <td>49694</td>\n",
       "      <td>48436</td>\n",
       "      <td>134</td>\n",
       "      <td>21</td>\n",
       "    </tr>\n",
       "    <tr>\n",
       "      <th>top</th>\n",
       "      <td>1</td>\n",
       "      <td>Chocolate Sandwich Cookies</td>\n",
       "      <td>100</td>\n",
       "      <td>11</td>\n",
       "    </tr>\n",
       "    <tr>\n",
       "      <th>freq</th>\n",
       "      <td>1</td>\n",
       "      <td>1</td>\n",
       "      <td>1258</td>\n",
       "      <td>6564</td>\n",
       "    </tr>\n",
       "  </tbody>\n",
       "</table>\n",
       "</div>"
      ],
      "text/plain": [
       "        product_id                product_name  aisle_id  department_id\n",
       "count        49694                       48436     49694          49694\n",
       "unique       49694                       48436       134             21\n",
       "top              1  Chocolate Sandwich Cookies       100             11\n",
       "freq             1                           1      1258           6564"
      ]
     },
     "execution_count": 8,
     "metadata": {},
     "output_type": "execute_result"
    }
   ],
   "source": [
    "# descrições numéricas de products_df\n",
    "products_df.describe()"
   ]
  },
  {
   "cell_type": "code",
   "execution_count": 9,
   "id": "d8370c05",
   "metadata": {
    "id": "d8370c05",
    "scrolled": true
   },
   "outputs": [
    {
     "name": "stdout",
     "output_type": "stream",
     "text": [
      "<class 'pandas.core.frame.DataFrame'>\n",
      "RangeIndex: 4545007 entries, 0 to 4545006\n",
      "Data columns (total 4 columns):\n",
      " #   Column             Non-Null Count    Dtype  \n",
      "---  ------             --------------    -----  \n",
      " 0   order_id           4545007 non-null  int64  \n",
      " 1   product_id         4545007 non-null  int64  \n",
      " 2   add_to_cart_order  4544171 non-null  float64\n",
      " 3   reordered          4545007 non-null  int64  \n",
      "dtypes: float64(1), int64(3)\n",
      "memory usage: 138.7 MB\n",
      "None\n",
      "\n",
      "         order_id  product_id  add_to_cart_order  reordered\n",
      "237127    1376252       21938                1.0          0\n",
      "448505     935919       31263                6.0          0\n",
      "2774293   2983951       27839                2.0          1\n",
      "2312882   3195976       23388                9.0          0\n",
      "2003931    970151       26604               11.0          1\n"
     ]
    }
   ],
   "source": [
    "# imprima as informações sobre o DataFrame\n",
    "print(order_product_df.info(show_counts = True), order_product_df.sample(5), sep = '\\n\\n')"
   ]
  },
  {
   "cell_type": "code",
   "execution_count": 10,
   "id": "7f0a0eab",
   "metadata": {},
   "outputs": [],
   "source": [
    "##Para utilizar o describe, primeiro vamos converter \"product_id\", \"order_id\" e \"reordered\" para object, uma vez que essas\n",
    "##são variáveis categóricas\n",
    "\n",
    "order_product_df['product_id'] = order_product_df['product_id'].astype('object')\n",
    "order_product_df['order_id'] = order_product_df['order_id'].astype('object')\n",
    "order_product_df['reordered'] = order_product_df['reordered'].astype('object')"
   ]
  },
  {
   "cell_type": "code",
   "execution_count": 11,
   "id": "ece1b92e",
   "metadata": {},
   "outputs": [
    {
     "data": {
      "text/html": [
       "<div>\n",
       "<style scoped>\n",
       "    .dataframe tbody tr th:only-of-type {\n",
       "        vertical-align: middle;\n",
       "    }\n",
       "\n",
       "    .dataframe tbody tr th {\n",
       "        vertical-align: top;\n",
       "    }\n",
       "\n",
       "    .dataframe thead th {\n",
       "        text-align: right;\n",
       "    }\n",
       "</style>\n",
       "<table border=\"1\" class=\"dataframe\">\n",
       "  <thead>\n",
       "    <tr style=\"text-align: right;\">\n",
       "      <th></th>\n",
       "      <th>order_id</th>\n",
       "      <th>product_id</th>\n",
       "      <th>add_to_cart_order</th>\n",
       "      <th>reordered</th>\n",
       "    </tr>\n",
       "  </thead>\n",
       "  <tbody>\n",
       "    <tr>\n",
       "      <th>count</th>\n",
       "      <td>4545007.0</td>\n",
       "      <td>4545007.0</td>\n",
       "      <td>4.544171e+06</td>\n",
       "      <td>4545007.0</td>\n",
       "    </tr>\n",
       "    <tr>\n",
       "      <th>unique</th>\n",
       "      <td>450046.0</td>\n",
       "      <td>45573.0</td>\n",
       "      <td>NaN</td>\n",
       "      <td>2.0</td>\n",
       "    </tr>\n",
       "    <tr>\n",
       "      <th>top</th>\n",
       "      <td>61355.0</td>\n",
       "      <td>24852.0</td>\n",
       "      <td>NaN</td>\n",
       "      <td>1.0</td>\n",
       "    </tr>\n",
       "    <tr>\n",
       "      <th>freq</th>\n",
       "      <td>127.0</td>\n",
       "      <td>66050.0</td>\n",
       "      <td>NaN</td>\n",
       "      <td>2683838.0</td>\n",
       "    </tr>\n",
       "    <tr>\n",
       "      <th>mean</th>\n",
       "      <td>NaN</td>\n",
       "      <td>NaN</td>\n",
       "      <td>8.351669e+00</td>\n",
       "      <td>NaN</td>\n",
       "    </tr>\n",
       "    <tr>\n",
       "      <th>std</th>\n",
       "      <td>NaN</td>\n",
       "      <td>NaN</td>\n",
       "      <td>7.080368e+00</td>\n",
       "      <td>NaN</td>\n",
       "    </tr>\n",
       "    <tr>\n",
       "      <th>min</th>\n",
       "      <td>NaN</td>\n",
       "      <td>NaN</td>\n",
       "      <td>1.000000e+00</td>\n",
       "      <td>NaN</td>\n",
       "    </tr>\n",
       "    <tr>\n",
       "      <th>25%</th>\n",
       "      <td>NaN</td>\n",
       "      <td>NaN</td>\n",
       "      <td>3.000000e+00</td>\n",
       "      <td>NaN</td>\n",
       "    </tr>\n",
       "    <tr>\n",
       "      <th>50%</th>\n",
       "      <td>NaN</td>\n",
       "      <td>NaN</td>\n",
       "      <td>6.000000e+00</td>\n",
       "      <td>NaN</td>\n",
       "    </tr>\n",
       "    <tr>\n",
       "      <th>75%</th>\n",
       "      <td>NaN</td>\n",
       "      <td>NaN</td>\n",
       "      <td>1.100000e+01</td>\n",
       "      <td>NaN</td>\n",
       "    </tr>\n",
       "    <tr>\n",
       "      <th>max</th>\n",
       "      <td>NaN</td>\n",
       "      <td>NaN</td>\n",
       "      <td>6.400000e+01</td>\n",
       "      <td>NaN</td>\n",
       "    </tr>\n",
       "  </tbody>\n",
       "</table>\n",
       "</div>"
      ],
      "text/plain": [
       "         order_id  product_id  add_to_cart_order  reordered\n",
       "count   4545007.0   4545007.0       4.544171e+06  4545007.0\n",
       "unique   450046.0     45573.0                NaN        2.0\n",
       "top       61355.0     24852.0                NaN        1.0\n",
       "freq        127.0     66050.0                NaN  2683838.0\n",
       "mean          NaN         NaN       8.351669e+00        NaN\n",
       "std           NaN         NaN       7.080368e+00        NaN\n",
       "min           NaN         NaN       1.000000e+00        NaN\n",
       "25%           NaN         NaN       3.000000e+00        NaN\n",
       "50%           NaN         NaN       6.000000e+00        NaN\n",
       "75%           NaN         NaN       1.100000e+01        NaN\n",
       "max           NaN         NaN       6.400000e+01        NaN"
      ]
     },
     "execution_count": 11,
     "metadata": {},
     "output_type": "execute_result"
    }
   ],
   "source": [
    "# descrições numéricas de order_product_df\n",
    "order_product_df.describe(include = 'all')"
   ]
  },
  {
   "cell_type": "code",
   "execution_count": 12,
   "id": "59e2090f",
   "metadata": {
    "id": "59e2090f",
    "scrolled": true
   },
   "outputs": [
    {
     "name": "stdout",
     "output_type": "stream",
     "text": [
      "<class 'pandas.core.frame.DataFrame'>\n",
      "RangeIndex: 134 entries, 0 to 133\n",
      "Data columns (total 2 columns):\n",
      " #   Column    Non-Null Count  Dtype \n",
      "---  ------    --------------  ----- \n",
      " 0   aisle_id  134 non-null    int64 \n",
      " 1   aisle     134 non-null    object\n",
      "dtypes: int64(1), object(1)\n",
      "memory usage: 2.2+ KB\n",
      "None\n",
      "\n",
      "     aisle_id              aisle\n",
      "126       127  body lotions soap\n",
      "59         60  trash bags liners\n",
      "119       120             yogurt\n",
      "42         43         buns rolls\n",
      "38         39    seafood counter\n"
     ]
    }
   ],
   "source": [
    "# imprima as informações sobre o DataFrame\n",
    "print(aisles_df.info(), aisles_df.sample(5), sep = '\\n\\n')"
   ]
  },
  {
   "cell_type": "code",
   "execution_count": 13,
   "id": "455ab91a",
   "metadata": {},
   "outputs": [],
   "source": [
    "##Para utilizar o describe, primeiro vamos converter \"aisle_id\" para object, uma vez que essa\n",
    "##é uma variável categórica\n",
    "\n",
    "aisles_df['aisle_id'] = aisles_df['aisle_id'].astype('object')"
   ]
  },
  {
   "cell_type": "code",
   "execution_count": 14,
   "id": "f0829ca8",
   "metadata": {},
   "outputs": [
    {
     "data": {
      "text/html": [
       "<div>\n",
       "<style scoped>\n",
       "    .dataframe tbody tr th:only-of-type {\n",
       "        vertical-align: middle;\n",
       "    }\n",
       "\n",
       "    .dataframe tbody tr th {\n",
       "        vertical-align: top;\n",
       "    }\n",
       "\n",
       "    .dataframe thead th {\n",
       "        text-align: right;\n",
       "    }\n",
       "</style>\n",
       "<table border=\"1\" class=\"dataframe\">\n",
       "  <thead>\n",
       "    <tr style=\"text-align: right;\">\n",
       "      <th></th>\n",
       "      <th>aisle_id</th>\n",
       "      <th>aisle</th>\n",
       "    </tr>\n",
       "  </thead>\n",
       "  <tbody>\n",
       "    <tr>\n",
       "      <th>count</th>\n",
       "      <td>134</td>\n",
       "      <td>134</td>\n",
       "    </tr>\n",
       "    <tr>\n",
       "      <th>unique</th>\n",
       "      <td>134</td>\n",
       "      <td>134</td>\n",
       "    </tr>\n",
       "    <tr>\n",
       "      <th>top</th>\n",
       "      <td>1</td>\n",
       "      <td>prepared soups salads</td>\n",
       "    </tr>\n",
       "    <tr>\n",
       "      <th>freq</th>\n",
       "      <td>1</td>\n",
       "      <td>1</td>\n",
       "    </tr>\n",
       "  </tbody>\n",
       "</table>\n",
       "</div>"
      ],
      "text/plain": [
       "        aisle_id                  aisle\n",
       "count        134                    134\n",
       "unique       134                    134\n",
       "top            1  prepared soups salads\n",
       "freq           1                      1"
      ]
     },
     "execution_count": 14,
     "metadata": {},
     "output_type": "execute_result"
    }
   ],
   "source": [
    "# descrições numéricas de aisles_df\n",
    "aisles_df.describe()"
   ]
  },
  {
   "cell_type": "code",
   "execution_count": 15,
   "id": "6fc81694",
   "metadata": {
    "id": "6fc81694",
    "scrolled": true
   },
   "outputs": [
    {
     "name": "stdout",
     "output_type": "stream",
     "text": [
      "<class 'pandas.core.frame.DataFrame'>\n",
      "RangeIndex: 21 entries, 0 to 20\n",
      "Data columns (total 2 columns):\n",
      " #   Column         Non-Null Count  Dtype \n",
      "---  ------         --------------  ----- \n",
      " 0   department_id  21 non-null     int64 \n",
      " 1   department     21 non-null     object\n",
      "dtypes: int64(1), object(1)\n",
      "memory usage: 464.0+ bytes\n",
      "None\n",
      "\n",
      "    department_id    department\n",
      "17             18        babies\n",
      "13             14     breakfast\n",
      "1               2         other\n",
      "11             12  meat seafood\n",
      "3               4       produce\n"
     ]
    }
   ],
   "source": [
    "# imprima as informações sobre o DataFrame\n",
    "print(departments_df.info(), departments_df.sample(5), sep = '\\n\\n')"
   ]
  },
  {
   "cell_type": "code",
   "execution_count": 16,
   "id": "3cc9aa83",
   "metadata": {},
   "outputs": [],
   "source": [
    "##Para utilizar o describe, primeiro vamos converter \"department_id\" para object, uma vez que essa\n",
    "##é uma variável categórica\n",
    "\n",
    "departments_df['department_id'] = departments_df['department_id'].astype('object')"
   ]
  },
  {
   "cell_type": "code",
   "execution_count": 17,
   "id": "c3755271",
   "metadata": {},
   "outputs": [
    {
     "data": {
      "text/html": [
       "<div>\n",
       "<style scoped>\n",
       "    .dataframe tbody tr th:only-of-type {\n",
       "        vertical-align: middle;\n",
       "    }\n",
       "\n",
       "    .dataframe tbody tr th {\n",
       "        vertical-align: top;\n",
       "    }\n",
       "\n",
       "    .dataframe thead th {\n",
       "        text-align: right;\n",
       "    }\n",
       "</style>\n",
       "<table border=\"1\" class=\"dataframe\">\n",
       "  <thead>\n",
       "    <tr style=\"text-align: right;\">\n",
       "      <th></th>\n",
       "      <th>department_id</th>\n",
       "      <th>department</th>\n",
       "    </tr>\n",
       "  </thead>\n",
       "  <tbody>\n",
       "    <tr>\n",
       "      <th>count</th>\n",
       "      <td>21</td>\n",
       "      <td>21</td>\n",
       "    </tr>\n",
       "    <tr>\n",
       "      <th>unique</th>\n",
       "      <td>21</td>\n",
       "      <td>21</td>\n",
       "    </tr>\n",
       "    <tr>\n",
       "      <th>top</th>\n",
       "      <td>1</td>\n",
       "      <td>frozen</td>\n",
       "    </tr>\n",
       "    <tr>\n",
       "      <th>freq</th>\n",
       "      <td>1</td>\n",
       "      <td>1</td>\n",
       "    </tr>\n",
       "  </tbody>\n",
       "</table>\n",
       "</div>"
      ],
      "text/plain": [
       "        department_id department\n",
       "count              21         21\n",
       "unique             21         21\n",
       "top                 1     frozen\n",
       "freq                1          1"
      ]
     },
     "execution_count": 17,
     "metadata": {},
     "output_type": "execute_result"
    }
   ],
   "source": [
    "# descrições numéricas de departments_df\n",
    "departments_df.describe()"
   ]
  },
  {
   "cell_type": "markdown",
   "id": "t75BD19oaR5f",
   "metadata": {
    "id": "t75BD19oaR5f"
   },
   "source": [
    "## Conclusões\n",
    "\n",
    "Escreva aqui suas conclusões intermediárias da Etapa 1. Visão geral dos dados\n",
    "\n",
    "\n",
    "**RESPOSTA:**\n",
    "\n",
    "1. O primeiro conjunto de dados, \"instacart_orders.csv\", possui 478967 linhas, onde 28.819 linhas possuem dados ausentes, todos na coluna \"days_since_prior_order\"  \n",
    "2. O segundo conjunto de dados, \"products.csv\", possui 49694 linhas, onde 1.258 (49694 - 48436) linhas possuem dados ausentes, todos na coluna \"product_name\"  \n",
    "3. O terceiro conjunto de dados, \"order_products.csv\", possui 4545007 linhas, onde 836 (4545007 - 4544171) linhas possuem dados ausentes, todos na coluna \"add_to_cart_order\"  \n",
    "4. O quarto conjunto de dados, \"aisles.csv\", possui 134 linhas, sem valores ausentes.  \n",
    "5. O quinto conjunto de dados, \"departments.csv\", possui 21 linhas, sem valores ausentes.\n",
    "\n",
    "\n"
   ]
  },
  {
   "cell_type": "markdown",
   "id": "512ed1d4",
   "metadata": {},
   "source": [
    "<div class=\"alert alert-danger\">\n",
    "<strong>Comentário do revisor v1</strong>\n",
    "\n",
    "Excelente trabalho checando a consistência dos dados.\n",
    "\n",
    "Sempre importante para garantir uma análise robusta!\n",
    "\n",
    "Para ficar 100% por aqui é importante validar a presença de valores atíticos por meio do describe()\n",
    "</div>"
   ]
  },
  {
   "cell_type": "markdown",
   "id": "1f606516",
   "metadata": {},
   "source": [
    "<div class=\"alert alert-info\">\n",
    "<strong>Comentário do estudante v1</strong>\n",
    "\n",
    "Realizei as descrições numéricas. Aqui, optei por realizar a conversão do tipo de dado de algumas colunas que utilizavam números para object, uma vez que elas representavam colunas categóricas.\n",
    "</div>"
   ]
  },
  {
   "cell_type": "markdown",
   "id": "8RJHqxVmaVsF",
   "metadata": {
    "id": "8RJHqxVmaVsF"
   },
   "source": [
    "# Etapa 2. Preparação de dados\n",
    "\n",
    "Faça o pré-processamento dos dados da seguinte maneira:\n",
    "\n",
    "-\tVerifique e corrija os tipos de dados (por exemplo, certifique-se de que as colunas de ID sejam números inteiros)\n",
    "-\tIdentifique e preencha valores ausentes\n",
    "-\tIdentifique e remova valores duplicados\n",
    "\n",
    "Certifique-se de explicar que tipos de valores ausentes e duplicados você encontrou, como você os preencheu ou removeu, por que escolheu esses métodos e por que você acha que esses valores ausentes e duplicados estavam presentes no conjunto de dados."
   ]
  },
  {
   "cell_type": "markdown",
   "id": "p6poABZQaZYb",
   "metadata": {
    "id": "p6poABZQaZYb"
   },
   "source": [
    "## Plano de solução\n",
    "\n",
    "Escreva aqui seu plano para a Etapa 2. Preparação de dados"
   ]
  },
  {
   "cell_type": "markdown",
   "id": "0b633ae1",
   "metadata": {},
   "source": [
    "**Resposta: O pré-processamento de dados irá começar com o tratamento de dados duplicados. Para isso, fará-se uso do método duplicated(), que varre os dataframes em busca de linhas completamente repetidas. Em seguida, para aqueles Dataframes onde não há linhas completamente repetidas, mas há colunas com valores unívocos que não devem se repetir (tais como as colunas \"product_id\" e \"product_name\" do dataframe _products_df_), utilizará-se o método _duplicated()_ com o atributo _subset_, que limita a comparação de valores duplicados apenas para um conjunto de linhas do dataframe. Algumas comparações irão ser precedidas de transformação de valores categóricos, como a coluna _product_name_, que irá ser toda convertida para strings com letras minúsculas, evitando que palavras semanticamente iguais sejam consideradas diferentes por diferenças de tipografia. O tratamento de dados duplicados irá ser finalizado com a exclusão das linhas repetidas, através do uso do método _drop_duplicates()_.**\n",
    "\n",
    "**A segunda etapa do pré processamento será o tratamento de dados ausentes, que irá iniciar com a contagem de valores ausentes através dos métodos _isnull()_ e _sum()_ aplicados em sequência. Em seguida, irá ser realizada uma visualização das linhas com valores ausentes com a intenção de identificar se há características em comum em todas essas linhas, o que pode indicar uma possível causa da ausência desses dados. Por fim, irá ser realizado o preenchimento das células ausentes com a utilização do método _fillna()_.**\n"
   ]
  },
  {
   "cell_type": "markdown",
   "id": "07357848-dc64-4156-9cc3-01ff4365226d",
   "metadata": {
    "id": "07357848-dc64-4156-9cc3-01ff4365226d"
   },
   "source": [
    "## Encontre e remova valores duplicados (e descreva por que você está fazendo suas escolhas)"
   ]
  },
  {
   "cell_type": "markdown",
   "id": "f179f0a9",
   "metadata": {
    "id": "f179f0a9"
   },
   "source": [
    "### DataFrame `orders`"
   ]
  },
  {
   "cell_type": "code",
   "execution_count": 18,
   "id": "b99297a5-405a-463d-8535-9adc3da4ad74",
   "metadata": {
    "id": "b99297a5-405a-463d-8535-9adc3da4ad74"
   },
   "outputs": [
    {
     "data": {
      "text/plain": [
       "15"
      ]
     },
     "execution_count": 18,
     "metadata": {},
     "output_type": "execute_result"
    }
   ],
   "source": [
    "# Verificar se há pedidos duplicados\n",
    "orders_df.duplicated().sum()"
   ]
  },
  {
   "cell_type": "code",
   "execution_count": 19,
   "id": "59505c76",
   "metadata": {},
   "outputs": [
    {
     "data": {
      "text/html": [
       "<div>\n",
       "<style scoped>\n",
       "    .dataframe tbody tr th:only-of-type {\n",
       "        vertical-align: middle;\n",
       "    }\n",
       "\n",
       "    .dataframe tbody tr th {\n",
       "        vertical-align: top;\n",
       "    }\n",
       "\n",
       "    .dataframe thead th {\n",
       "        text-align: right;\n",
       "    }\n",
       "</style>\n",
       "<table border=\"1\" class=\"dataframe\">\n",
       "  <thead>\n",
       "    <tr style=\"text-align: right;\">\n",
       "      <th></th>\n",
       "      <th>order_id</th>\n",
       "      <th>user_id</th>\n",
       "      <th>order_number</th>\n",
       "      <th>order_dow</th>\n",
       "      <th>order_hour_of_day</th>\n",
       "      <th>days_since_prior_order</th>\n",
       "    </tr>\n",
       "  </thead>\n",
       "  <tbody>\n",
       "    <tr>\n",
       "      <th>145574</th>\n",
       "      <td>794638</td>\n",
       "      <td>50898</td>\n",
       "      <td>24</td>\n",
       "      <td>3</td>\n",
       "      <td>2</td>\n",
       "      <td>2.0</td>\n",
       "    </tr>\n",
       "    <tr>\n",
       "      <th>223105</th>\n",
       "      <td>2160484</td>\n",
       "      <td>107525</td>\n",
       "      <td>16</td>\n",
       "      <td>3</td>\n",
       "      <td>2</td>\n",
       "      <td>30.0</td>\n",
       "    </tr>\n",
       "    <tr>\n",
       "      <th>230807</th>\n",
       "      <td>1918001</td>\n",
       "      <td>188546</td>\n",
       "      <td>14</td>\n",
       "      <td>3</td>\n",
       "      <td>2</td>\n",
       "      <td>16.0</td>\n",
       "    </tr>\n",
       "    <tr>\n",
       "      <th>266232</th>\n",
       "      <td>1782114</td>\n",
       "      <td>106752</td>\n",
       "      <td>1</td>\n",
       "      <td>3</td>\n",
       "      <td>2</td>\n",
       "      <td>NaN</td>\n",
       "    </tr>\n",
       "    <tr>\n",
       "      <th>273805</th>\n",
       "      <td>1112182</td>\n",
       "      <td>202304</td>\n",
       "      <td>84</td>\n",
       "      <td>3</td>\n",
       "      <td>2</td>\n",
       "      <td>6.0</td>\n",
       "    </tr>\n",
       "    <tr>\n",
       "      <th>284038</th>\n",
       "      <td>2845099</td>\n",
       "      <td>31189</td>\n",
       "      <td>11</td>\n",
       "      <td>3</td>\n",
       "      <td>2</td>\n",
       "      <td>7.0</td>\n",
       "    </tr>\n",
       "    <tr>\n",
       "      <th>311713</th>\n",
       "      <td>1021560</td>\n",
       "      <td>53767</td>\n",
       "      <td>3</td>\n",
       "      <td>3</td>\n",
       "      <td>2</td>\n",
       "      <td>9.0</td>\n",
       "    </tr>\n",
       "    <tr>\n",
       "      <th>321100</th>\n",
       "      <td>408114</td>\n",
       "      <td>68324</td>\n",
       "      <td>4</td>\n",
       "      <td>3</td>\n",
       "      <td>2</td>\n",
       "      <td>18.0</td>\n",
       "    </tr>\n",
       "    <tr>\n",
       "      <th>323900</th>\n",
       "      <td>1919531</td>\n",
       "      <td>191501</td>\n",
       "      <td>32</td>\n",
       "      <td>3</td>\n",
       "      <td>2</td>\n",
       "      <td>7.0</td>\n",
       "    </tr>\n",
       "    <tr>\n",
       "      <th>345917</th>\n",
       "      <td>2232988</td>\n",
       "      <td>82565</td>\n",
       "      <td>1</td>\n",
       "      <td>3</td>\n",
       "      <td>2</td>\n",
       "      <td>NaN</td>\n",
       "    </tr>\n",
       "    <tr>\n",
       "      <th>371905</th>\n",
       "      <td>391768</td>\n",
       "      <td>57671</td>\n",
       "      <td>19</td>\n",
       "      <td>3</td>\n",
       "      <td>2</td>\n",
       "      <td>10.0</td>\n",
       "    </tr>\n",
       "    <tr>\n",
       "      <th>394347</th>\n",
       "      <td>467134</td>\n",
       "      <td>63189</td>\n",
       "      <td>21</td>\n",
       "      <td>3</td>\n",
       "      <td>2</td>\n",
       "      <td>2.0</td>\n",
       "    </tr>\n",
       "    <tr>\n",
       "      <th>411408</th>\n",
       "      <td>1286742</td>\n",
       "      <td>183220</td>\n",
       "      <td>48</td>\n",
       "      <td>3</td>\n",
       "      <td>2</td>\n",
       "      <td>4.0</td>\n",
       "    </tr>\n",
       "    <tr>\n",
       "      <th>415163</th>\n",
       "      <td>2282673</td>\n",
       "      <td>86751</td>\n",
       "      <td>49</td>\n",
       "      <td>3</td>\n",
       "      <td>2</td>\n",
       "      <td>2.0</td>\n",
       "    </tr>\n",
       "    <tr>\n",
       "      <th>441599</th>\n",
       "      <td>2125197</td>\n",
       "      <td>14050</td>\n",
       "      <td>48</td>\n",
       "      <td>3</td>\n",
       "      <td>2</td>\n",
       "      <td>3.0</td>\n",
       "    </tr>\n",
       "  </tbody>\n",
       "</table>\n",
       "</div>"
      ],
      "text/plain": [
       "       order_id user_id  order_number  order_dow  order_hour_of_day  \\\n",
       "145574   794638   50898            24          3                  2   \n",
       "223105  2160484  107525            16          3                  2   \n",
       "230807  1918001  188546            14          3                  2   \n",
       "266232  1782114  106752             1          3                  2   \n",
       "273805  1112182  202304            84          3                  2   \n",
       "284038  2845099   31189            11          3                  2   \n",
       "311713  1021560   53767             3          3                  2   \n",
       "321100   408114   68324             4          3                  2   \n",
       "323900  1919531  191501            32          3                  2   \n",
       "345917  2232988   82565             1          3                  2   \n",
       "371905   391768   57671            19          3                  2   \n",
       "394347   467134   63189            21          3                  2   \n",
       "411408  1286742  183220            48          3                  2   \n",
       "415163  2282673   86751            49          3                  2   \n",
       "441599  2125197   14050            48          3                  2   \n",
       "\n",
       "        days_since_prior_order  \n",
       "145574                     2.0  \n",
       "223105                    30.0  \n",
       "230807                    16.0  \n",
       "266232                     NaN  \n",
       "273805                     6.0  \n",
       "284038                     7.0  \n",
       "311713                     9.0  \n",
       "321100                    18.0  \n",
       "323900                     7.0  \n",
       "345917                     NaN  \n",
       "371905                    10.0  \n",
       "394347                     2.0  \n",
       "411408                     4.0  \n",
       "415163                     2.0  \n",
       "441599                     3.0  "
      ]
     },
     "execution_count": 19,
     "metadata": {},
     "output_type": "execute_result"
    }
   ],
   "source": [
    "orders_df[orders_df.duplicated()]"
   ]
  },
  {
   "cell_type": "markdown",
   "id": "PEkwUX_gvt5A",
   "metadata": {
    "id": "PEkwUX_gvt5A"
   },
   "source": [
    "Há linhas duplicadas? Se sim, o que elas têm em comum?"
   ]
  },
  {
   "cell_type": "markdown",
   "id": "74c04a72",
   "metadata": {},
   "source": [
    "**RESPOSTA: Há 15 linhas duplicadas, e elas têm em comum o dia da semana e o horário que foi feito, o que pode indicar uma possível instabilidade do sistema naquele horário, acarretando na duplicação do pedido**"
   ]
  },
  {
   "cell_type": "code",
   "execution_count": 20,
   "id": "0d44de5d",
   "metadata": {
    "id": "0d44de5d"
   },
   "outputs": [
    {
     "data": {
      "text/html": [
       "<div>\n",
       "<style scoped>\n",
       "    .dataframe tbody tr th:only-of-type {\n",
       "        vertical-align: middle;\n",
       "    }\n",
       "\n",
       "    .dataframe tbody tr th {\n",
       "        vertical-align: top;\n",
       "    }\n",
       "\n",
       "    .dataframe thead th {\n",
       "        text-align: right;\n",
       "    }\n",
       "</style>\n",
       "<table border=\"1\" class=\"dataframe\">\n",
       "  <thead>\n",
       "    <tr style=\"text-align: right;\">\n",
       "      <th></th>\n",
       "      <th>order_id</th>\n",
       "      <th>user_id</th>\n",
       "      <th>order_number</th>\n",
       "      <th>order_dow</th>\n",
       "      <th>order_hour_of_day</th>\n",
       "      <th>days_since_prior_order</th>\n",
       "    </tr>\n",
       "  </thead>\n",
       "  <tbody>\n",
       "    <tr>\n",
       "      <th>4838</th>\n",
       "      <td>2766110</td>\n",
       "      <td>162084</td>\n",
       "      <td>41</td>\n",
       "      <td>3</td>\n",
       "      <td>2</td>\n",
       "      <td>16.0</td>\n",
       "    </tr>\n",
       "    <tr>\n",
       "      <th>5156</th>\n",
       "      <td>2190225</td>\n",
       "      <td>138285</td>\n",
       "      <td>18</td>\n",
       "      <td>3</td>\n",
       "      <td>2</td>\n",
       "      <td>11.0</td>\n",
       "    </tr>\n",
       "    <tr>\n",
       "      <th>15506</th>\n",
       "      <td>553049</td>\n",
       "      <td>58599</td>\n",
       "      <td>13</td>\n",
       "      <td>3</td>\n",
       "      <td>2</td>\n",
       "      <td>7.0</td>\n",
       "    </tr>\n",
       "    <tr>\n",
       "      <th>18420</th>\n",
       "      <td>382357</td>\n",
       "      <td>120200</td>\n",
       "      <td>19</td>\n",
       "      <td>3</td>\n",
       "      <td>2</td>\n",
       "      <td>11.0</td>\n",
       "    </tr>\n",
       "    <tr>\n",
       "      <th>24691</th>\n",
       "      <td>690242</td>\n",
       "      <td>77357</td>\n",
       "      <td>2</td>\n",
       "      <td>3</td>\n",
       "      <td>2</td>\n",
       "      <td>9.0</td>\n",
       "    </tr>\n",
       "    <tr>\n",
       "      <th>...</th>\n",
       "      <td>...</td>\n",
       "      <td>...</td>\n",
       "      <td>...</td>\n",
       "      <td>...</td>\n",
       "      <td>...</td>\n",
       "      <td>...</td>\n",
       "    </tr>\n",
       "    <tr>\n",
       "      <th>457013</th>\n",
       "      <td>3384021</td>\n",
       "      <td>14881</td>\n",
       "      <td>6</td>\n",
       "      <td>3</td>\n",
       "      <td>2</td>\n",
       "      <td>30.0</td>\n",
       "    </tr>\n",
       "    <tr>\n",
       "      <th>458816</th>\n",
       "      <td>910166</td>\n",
       "      <td>164782</td>\n",
       "      <td>18</td>\n",
       "      <td>3</td>\n",
       "      <td>2</td>\n",
       "      <td>4.0</td>\n",
       "    </tr>\n",
       "    <tr>\n",
       "      <th>459635</th>\n",
       "      <td>1680532</td>\n",
       "      <td>106435</td>\n",
       "      <td>6</td>\n",
       "      <td>3</td>\n",
       "      <td>2</td>\n",
       "      <td>21.0</td>\n",
       "    </tr>\n",
       "    <tr>\n",
       "      <th>468324</th>\n",
       "      <td>222962</td>\n",
       "      <td>54979</td>\n",
       "      <td>59</td>\n",
       "      <td>3</td>\n",
       "      <td>2</td>\n",
       "      <td>3.0</td>\n",
       "    </tr>\n",
       "    <tr>\n",
       "      <th>477526</th>\n",
       "      <td>2592344</td>\n",
       "      <td>46860</td>\n",
       "      <td>38</td>\n",
       "      <td>3</td>\n",
       "      <td>2</td>\n",
       "      <td>3.0</td>\n",
       "    </tr>\n",
       "  </tbody>\n",
       "</table>\n",
       "<p>121 rows × 6 columns</p>\n",
       "</div>"
      ],
      "text/plain": [
       "       order_id user_id  order_number  order_dow  order_hour_of_day  \\\n",
       "4838    2766110  162084            41          3                  2   \n",
       "5156    2190225  138285            18          3                  2   \n",
       "15506    553049   58599            13          3                  2   \n",
       "18420    382357  120200            19          3                  2   \n",
       "24691    690242   77357             2          3                  2   \n",
       "...         ...     ...           ...        ...                ...   \n",
       "457013  3384021   14881             6          3                  2   \n",
       "458816   910166  164782            18          3                  2   \n",
       "459635  1680532  106435             6          3                  2   \n",
       "468324   222962   54979            59          3                  2   \n",
       "477526  2592344   46860            38          3                  2   \n",
       "\n",
       "        days_since_prior_order  \n",
       "4838                      16.0  \n",
       "5156                      11.0  \n",
       "15506                      7.0  \n",
       "18420                     11.0  \n",
       "24691                      9.0  \n",
       "...                        ...  \n",
       "457013                    30.0  \n",
       "458816                     4.0  \n",
       "459635                    21.0  \n",
       "468324                     3.0  \n",
       "477526                     3.0  \n",
       "\n",
       "[121 rows x 6 columns]"
      ]
     },
     "execution_count": 20,
     "metadata": {},
     "output_type": "execute_result"
    }
   ],
   "source": [
    "# Com base nas suas conclusões,\n",
    "\n",
    "# verifique todos os pedidos feitos às 2h da manhã nas quartas-feiras\n",
    "orders_df.query('order_dow == 3 and order_hour_of_day == 2')"
   ]
  },
  {
   "cell_type": "markdown",
   "id": "vu2OWyoqwOx5",
   "metadata": {
    "id": "vu2OWyoqwOx5"
   },
   "source": [
    "O que esse resultado quer dizer?"
   ]
  },
  {
   "cell_type": "code",
   "execution_count": 21,
   "id": "480563c7",
   "metadata": {
    "id": "480563c7"
   },
   "outputs": [],
   "source": [
    "# Remova pedidos duplicados\n",
    "orders_df.drop_duplicates(inplace = True)\n",
    "\n",
    "# adicional = reset do índice\n",
    "orders_df = orders_df.reset_index(drop = True)"
   ]
  },
  {
   "cell_type": "markdown",
   "id": "a4cae8a0",
   "metadata": {},
   "source": [
    "<div class=\"alert alert-danger\">\n",
    "<strong>Comentário do revisor v1</strong>\n",
    "\n",
    "Excelente trabalho detectando os duplicados e o reset_index é realmente fundamental. Mas como você não o salvou em um objeto ele acabou se perdendo... Guarde-o em um objeto (pode inclusive ser no próprio df) para que ele nos ajude na análise\n",
    "</div>\n"
   ]
  },
  {
   "cell_type": "markdown",
   "id": "e152bdff",
   "metadata": {},
   "source": [
    "<div class=\"alert alert-info\">\n",
    "<strong>Comentário do estudante v1</strong>\n",
    "\n",
    "Corrigido! Atribui o valor para a mesma variável <i>orders_df</i>\n",
    "</div>"
   ]
  },
  {
   "cell_type": "code",
   "execution_count": 22,
   "id": "0b2396a2",
   "metadata": {
    "id": "0b2396a2"
   },
   "outputs": [
    {
     "data": {
      "text/html": [
       "<div>\n",
       "<style scoped>\n",
       "    .dataframe tbody tr th:only-of-type {\n",
       "        vertical-align: middle;\n",
       "    }\n",
       "\n",
       "    .dataframe tbody tr th {\n",
       "        vertical-align: top;\n",
       "    }\n",
       "\n",
       "    .dataframe thead th {\n",
       "        text-align: right;\n",
       "    }\n",
       "</style>\n",
       "<table border=\"1\" class=\"dataframe\">\n",
       "  <thead>\n",
       "    <tr style=\"text-align: right;\">\n",
       "      <th></th>\n",
       "      <th>order_id</th>\n",
       "      <th>user_id</th>\n",
       "      <th>order_number</th>\n",
       "      <th>order_dow</th>\n",
       "      <th>order_hour_of_day</th>\n",
       "      <th>days_since_prior_order</th>\n",
       "    </tr>\n",
       "  </thead>\n",
       "  <tbody>\n",
       "  </tbody>\n",
       "</table>\n",
       "</div>"
      ],
      "text/plain": [
       "Empty DataFrame\n",
       "Columns: [order_id, user_id, order_number, order_dow, order_hour_of_day, days_since_prior_order]\n",
       "Index: []"
      ]
     },
     "execution_count": 22,
     "metadata": {},
     "output_type": "execute_result"
    }
   ],
   "source": [
    "# Verifique as linhas duplicadas mais uma vez\n",
    "orders_df[orders_df.duplicated()]"
   ]
  },
  {
   "cell_type": "code",
   "execution_count": 23,
   "id": "f6113ef1",
   "metadata": {
    "id": "f6113ef1"
   },
   "outputs": [
    {
     "data": {
      "text/plain": [
       "Series([], Name: order_id, dtype: object)"
      ]
     },
     "execution_count": 23,
     "metadata": {},
     "output_type": "execute_result"
    }
   ],
   "source": [
    "# Verifique novamente apenas os IDs de pedidos duplicados\n",
    "orders_df[orders_df.duplicated()]['order_id']"
   ]
  },
  {
   "cell_type": "markdown",
   "id": "5e8905ae",
   "metadata": {
    "id": "5e8905ae"
   },
   "source": [
    "\n",
    "\n",
    "Descreva brevemente suas conclusões e o que você fez com elas."
   ]
  },
  {
   "cell_type": "markdown",
   "id": "3b247222",
   "metadata": {},
   "source": [
    "**RESPOSTA: Os dados duplicados foram removidos com sucesso, uma vez que a verificação dos ids de pedidos duplicados retornou uma Series vazia.**"
   ]
  },
  {
   "cell_type": "markdown",
   "id": "45e6bc46",
   "metadata": {
    "id": "45e6bc46"
   },
   "source": [
    "### DataFrame `products`"
   ]
  },
  {
   "cell_type": "code",
   "execution_count": 24,
   "id": "5f526b5b-8175-46fa-a0fd-441767d50e64",
   "metadata": {
    "id": "5f526b5b-8175-46fa-a0fd-441767d50e64"
   },
   "outputs": [
    {
     "data": {
      "text/plain": [
       "0"
      ]
     },
     "execution_count": 24,
     "metadata": {},
     "output_type": "execute_result"
    }
   ],
   "source": [
    "# Verifique se há linhas completamente duplicadas\n",
    "products_df.duplicated().sum()"
   ]
  },
  {
   "cell_type": "code",
   "execution_count": 25,
   "id": "88daa4f4",
   "metadata": {
    "id": "88daa4f4"
   },
   "outputs": [
    {
     "data": {
      "text/plain": [
       "0"
      ]
     },
     "execution_count": 25,
     "metadata": {},
     "output_type": "execute_result"
    }
   ],
   "source": [
    "# Verifique apenas se há IDs dos produtos duplicados\n",
    "products_df.duplicated(subset = 'product_id').sum()"
   ]
  },
  {
   "cell_type": "code",
   "execution_count": 26,
   "id": "c773f0bf",
   "metadata": {
    "id": "c773f0bf"
   },
   "outputs": [
    {
     "data": {
      "text/plain": [
       "1361"
      ]
     },
     "execution_count": 26,
     "metadata": {},
     "output_type": "execute_result"
    }
   ],
   "source": [
    "# Verifique apenas se há nomes de produtos duplicados (converta os nomes para minúsculas para uma comparação melhor)\n",
    "products_df['product_name'] = products_df['product_name'].str.lower()\n",
    "products_df.duplicated(subset = 'product_name').sum()"
   ]
  },
  {
   "cell_type": "code",
   "execution_count": 27,
   "id": "4d30056b",
   "metadata": {
    "scrolled": true
   },
   "outputs": [],
   "source": [
    "## Salva em duplicados_names os nomes dos produtos duplicados\n",
    "duplicados_names = products_df[products_df.duplicated(subset = 'product_name')].dropna()['product_name'].unique()"
   ]
  },
  {
   "cell_type": "code",
   "execution_count": 28,
   "id": "88d01af0",
   "metadata": {},
   "outputs": [
    {
     "data": {
      "text/plain": [
       "array(['biotin 1000 mcg', 'green tea with ginseng and honey',\n",
       "       'cream of mushroom soup', 'cinnamon rolls with icing',\n",
       "       'american cheese slices', 'cauliflower head', 'pumpkin spice',\n",
       "       'hearts of palm', 'cream of tartar', 'lasagna with meat sauce',\n",
       "       'vitamin d3 2000 iu', 'dulce de leche caramel ice cream',\n",
       "       'balsamic vinegar of modena',\n",
       "       'diced peeled tomatoes in tomato juice',\n",
       "       'fresh scent dishwasher detergent with dawn', 'half and half',\n",
       "       'aged balsamic vinegar of modena', 'matzo ball mix',\n",
       "       'chipotle peppers in adobo sauce',\n",
       "       'beef ravioli in tomato & meat sauce', 'coconut juice with pulp',\n",
       "       'solid white albacore tuna in water',\n",
       "       'tomato and basil pasta sauce',\n",
       "       'albacore solid white tuna in water',\n",
       "       'premium lubricant condoms enz', 'ultragel personal lubricant',\n",
       "       'rigatoni with chicken & pesto',\n",
       "       'nutrition protein mix blueberry nut', 'candy bar',\n",
       "       'beef chili with beans',\n",
       "       \"potatoes o'brien with onions and peppers\",\n",
       "       'muenster cheese slices', 'chopped garlic in water',\n",
       "       'maraschino cherries with stems', 'sea salt caramel ice cream',\n",
       "       'edamame soybeans in pods', 'chunk light tuna in vegetable oil',\n",
       "       'chicken with rice soup',\n",
       "       \"tender white meat chicken- vegetables & rice in a cheddar cheese sauce grandma's chicken & vegetable rice bake\",\n",
       "       '18-in-1 hemp peppermint pure-castile soap',\n",
       "       'concentrace trace mineral drops',\n",
       "       'oil of oregano dietary supplement', 'gluten free spaghetti',\n",
       "       'gentle and predictable overnight relief laxative tablets',\n",
       "       'original chili con carne with beans',\n",
       "       'solid white albacore tuna in spring water',\n",
       "       'mozzarella sticks with marinara sauce', 'mediterranean sea salt',\n",
       "       'powerball max in 1 shine & protect', 'glass cleaner with ammonia',\n",
       "       'flat fillets of anchovies in pure olive oil',\n",
       "       'pineapple slices in heavy syrup', 'chili with beans',\n",
       "       'top the tater chive & onion sour cream',\n",
       "       'yams cut sweet potatoes in syrup', 'herring in wine sauce',\n",
       "       'original potato chips', 'cream of celery condensed soup',\n",
       "       'chicken in a biskit baked snack crackers',\n",
       "       'wild sardines in spring water', 'macaroni and cheese',\n",
       "       'salsa medium', 'drinking water', 'apricot energy bar',\n",
       "       'mandarin oranges in light syrup', 'carrot and celery sticks',\n",
       "       'family size lasagna with meat & sauce',\n",
       "       'fruit cocktail in heavy syrup',\n",
       "       'proactive health indoor weight & hairball care with chicken cat food',\n",
       "       'tomato juice from concentrate',\n",
       "       'hydro body sponge with hand strap', 'bbq sauce',\n",
       "       'protein plus vanilla bean protein shake', 'original bbq sauce',\n",
       "       'blanc de noirs', 'ibuprofen tablets 200 mg',\n",
       "       'lavender & chamomile baby powder', 'dark chocolate with almonds',\n",
       "       'organic balsamic vinegar of modena',\n",
       "       'bleu cheese salad dressing and dip', 'chunk light tuna in water',\n",
       "       'leave-in conditioner', 'bag of oranges',\n",
       "       'cosmic brownies with chocolate chip candy', 'megaflora probiotic',\n",
       "       'mountain berry blast sports drink', \"cookies 'n cream ice cream\",\n",
       "       'fire roasted diced tomatoes with garlic',\n",
       "       'pineapple slices in 100% pineapple juice',\n",
       "       'skinless & boneless sardines in olive oil',\n",
       "       'spreadable butter with canola oil', 'crushed tomatoes with basil',\n",
       "       'vitamin d3 1000 iu', 'bag of organic lemons',\n",
       "       'sour cream and onion potato chips', 'vitamin d3 5000 iu',\n",
       "       'anchovy fillets in olive oil',\n",
       "       'fluffly vanilla marshmallow frosting',\n",
       "       'high performance energy drink', 'original pancake & waffle mix',\n",
       "       'organic instant oatmeal light maple brown sugar',\n",
       "       'spring water body wash', 'burrito- steak & cheese'], dtype=object)"
      ]
     },
     "execution_count": 28,
     "metadata": {},
     "output_type": "execute_result"
    }
   ],
   "source": [
    "duplicados_names"
   ]
  },
  {
   "cell_type": "code",
   "execution_count": 29,
   "id": "2bccafeb",
   "metadata": {},
   "outputs": [],
   "source": [
    "## Essa função irá mapear os ids duplicados, utilizá-los como chaves e colocar o valor do id_vigente como chaves. Essa função irá\n",
    "## auxiliar a atualização de ids no dataframe order_product_df\n",
    "\n",
    "def constroi_mapa_duplicados(duplicados_names):\n",
    "\n",
    "    duplicados_map = {}\n",
    "    for duplicado in duplicados_names:\n",
    "        df_duplicado = products_df[products_df['product_name'] == duplicado]\n",
    "        id_vigente = df_duplicado['product_id'][:1].values[0]\n",
    "        ids_antigos = df_duplicado['product_id'][1:].values\n",
    "        for identificador in ids_antigos:\n",
    "            duplicados_map[identificador] = id_vigente\n",
    "    return duplicados_map"
   ]
  },
  {
   "cell_type": "code",
   "execution_count": 30,
   "id": "2953ce8f",
   "metadata": {},
   "outputs": [],
   "source": [
    "duplicados_map = constroi_mapa_duplicados(duplicados_names)"
   ]
  },
  {
   "cell_type": "code",
   "execution_count": 31,
   "id": "031379df",
   "metadata": {},
   "outputs": [
    {
     "data": {
      "text/plain": [
       "{2059: 42,\n",
       " 5456: 2038,\n",
       " 19814: 2038,\n",
       " 5559: 5439,\n",
       " 7559: 2957,\n",
       " 9038: 516,\n",
       " 10411: 1539,\n",
       " 12821: 5052,\n",
       " 14962: 6758,\n",
       " 15660: 6135,\n",
       " 16485: 7828,\n",
       " 16991: 4388,\n",
       " 17321: 14464,\n",
       " 18761: 15610,\n",
       " 18817: 13393,\n",
       " 19043: 186,\n",
       " 19511: 6286,\n",
       " 19942: 13153,\n",
       " 20364: 11071,\n",
       " 22591: 7741,\n",
       " 23333: 18507,\n",
       " 23684: 18872,\n",
       " 24294: 4317,\n",
       " 24571: 12248,\n",
       " 24831: 22583,\n",
       " 25924: 20047,\n",
       " 26167: 15628,\n",
       " 26554: 25077,\n",
       " 26727: 1784,\n",
       " 26990: 11149,\n",
       " 29518: 3882,\n",
       " 29731: 3133,\n",
       " 29854: 25539,\n",
       " 29912: 18313,\n",
       " 30145: 13437,\n",
       " 30306: 22828,\n",
       " 30675: 21750,\n",
       " 30895: 10009,\n",
       " 31293: 10748,\n",
       " 31329: 2595,\n",
       " 31845: 23340,\n",
       " 32049: 7463,\n",
       " 33656: 26964,\n",
       " 34943: 18050,\n",
       " 35422: 17820,\n",
       " 35621: 25075,\n",
       " 35883: 15442,\n",
       " 35978: 16148,\n",
       " 36277: 14968,\n",
       " 36582: 2445,\n",
       " 37035: 35677,\n",
       " 37419: 19408,\n",
       " 37540: 1854,\n",
       " 37635: 23549,\n",
       " 38056: 8811,\n",
       " 38261: 1827,\n",
       " 38950: 30543,\n",
       " 39297: 25952,\n",
       " 39352: 18403,\n",
       " 39397: 17984,\n",
       " 40094: 21367,\n",
       " 40878: 15925,\n",
       " 40892: 33092,\n",
       " 40939: 34945,\n",
       " 41222: 27803,\n",
       " 41272: 4469,\n",
       " 41329: 10102,\n",
       " 41831: 33050,\n",
       " 42571: 14873,\n",
       " 42818: 20355,\n",
       " 43010: 32532,\n",
       " 43047: 28727,\n",
       " 43288: 2691,\n",
       " 43776: 12462,\n",
       " 43872: 10060,\n",
       " 44079: 11164,\n",
       " 44088: 35623,\n",
       " 44192: 18768,\n",
       " 44791: 20838,\n",
       " 45002: 9643,\n",
       " 45032: 3173,\n",
       " 45149: 37576,\n",
       " 45173: 27597,\n",
       " 45231: 4377,\n",
       " 45568: 10350,\n",
       " 45928: 42675,\n",
       " 46052: 9152,\n",
       " 46123: 45277,\n",
       " 46637: 22086,\n",
       " 46914: 46025,\n",
       " 46974: 31732,\n",
       " 47185: 43223,\n",
       " 48094: 8820,\n",
       " 48749: 36536,\n",
       " 48825: 34450,\n",
       " 49227: 6368,\n",
       " 49443: 46874,\n",
       " 49531: 12326,\n",
       " 49689: 13886,\n",
       " 49690: 22541,\n",
       " 49691: 25893,\n",
       " 49692: 32861,\n",
       " 49693: 36790,\n",
       " 49694: 44315}"
      ]
     },
     "execution_count": 31,
     "metadata": {},
     "output_type": "execute_result"
    }
   ],
   "source": [
    "duplicados_map"
   ]
  },
  {
   "cell_type": "code",
   "execution_count": 32,
   "id": "c2349cef",
   "metadata": {},
   "outputs": [
    {
     "name": "stdout",
     "output_type": "stream",
     "text": [
      "42\n",
      "2038\n",
      "2038\n",
      "5439\n",
      "2957\n",
      "516\n",
      "1539\n",
      "5052\n",
      "6758\n",
      "6135\n",
      "7828\n",
      "4388\n",
      "14464\n",
      "15610\n",
      "13393\n",
      "186\n",
      "6286\n",
      "13153\n",
      "11071\n",
      "7741\n",
      "18507\n",
      "18872\n",
      "4317\n",
      "12248\n",
      "22583\n",
      "20047\n",
      "15628\n",
      "25077\n",
      "1784\n",
      "11149\n",
      "3882\n",
      "3133\n",
      "25539\n",
      "18313\n",
      "13437\n",
      "22828\n",
      "21750\n",
      "10009\n",
      "10748\n",
      "2595\n",
      "23340\n",
      "7463\n",
      "26964\n",
      "18050\n",
      "17820\n",
      "25075\n",
      "15442\n",
      "16148\n",
      "14968\n",
      "2445\n",
      "35677\n",
      "19408\n",
      "1854\n",
      "23549\n",
      "8811\n",
      "1827\n",
      "30543\n",
      "25952\n",
      "18403\n",
      "17984\n",
      "21367\n",
      "15925\n",
      "33092\n",
      "34945\n",
      "27803\n",
      "4469\n",
      "10102\n",
      "33050\n",
      "14873\n",
      "20355\n",
      "32532\n",
      "28727\n",
      "2691\n",
      "12462\n",
      "10060\n",
      "11164\n",
      "35623\n",
      "18768\n",
      "20838\n",
      "9643\n",
      "3173\n",
      "37576\n",
      "27597\n",
      "4377\n",
      "10350\n",
      "42675\n",
      "9152\n",
      "45277\n",
      "22086\n",
      "46025\n",
      "31732\n",
      "43223\n",
      "8820\n",
      "36536\n",
      "34450\n",
      "6368\n",
      "46874\n",
      "12326\n",
      "13886\n",
      "22541\n",
      "25893\n",
      "32861\n",
      "36790\n",
      "44315\n"
     ]
    }
   ],
   "source": [
    "for duplicado in duplicados_map:\n",
    "    print(duplicados_map[duplicado])"
   ]
  },
  {
   "cell_type": "code",
   "execution_count": 33,
   "id": "3a47242e",
   "metadata": {},
   "outputs": [],
   "source": [
    "def atualiza_product_id(duplicados_map):\n",
    "    \n",
    "    for id_antigo in duplicados_map:\n",
    "        order_product_df['product_id'] = order_product_df['product_id'].where(order_product_df['product_id'] != id_antigo, duplicados_map[id_antigo])\n",
    "    return"
   ]
  },
  {
   "cell_type": "code",
   "execution_count": 34,
   "id": "9881c773",
   "metadata": {},
   "outputs": [],
   "source": [
    "##Atualiza ids de produtos para evitar duplicação\n",
    "\n",
    "atualiza_product_id(duplicados_map)"
   ]
  },
  {
   "cell_type": "code",
   "execution_count": 35,
   "id": "0246b697",
   "metadata": {
    "scrolled": true
   },
   "outputs": [],
   "source": [
    "# Removendo produtos duplicados\n",
    "products_df = products_df.drop_duplicates(subset = 'product_name').reset_index(drop = True)"
   ]
  },
  {
   "cell_type": "code",
   "execution_count": 36,
   "id": "01efd02e",
   "metadata": {
    "id": "01efd02e"
   },
   "outputs": [
    {
     "data": {
      "text/plain": [
       "Index(['chocolate sandwich cookies', 'caramel apple spice slim life tea',\n",
       "       'classic broth with wild salmon',\n",
       "       'cafe steamers honey balsamic chicken grilled white meat',\n",
       "       'fiber d'lish blueberry cobbler bar', 'jam- old fashioned- jalapeno',\n",
       "       'frosted mini-wheats touch of fruit raspberry cereal',\n",
       "       'alpine breeze gentle whitening for sensitive teeth toothpaste',\n",
       "       'chicken apple sausage',\n",
       "       'fully cooked boneless ribs in sweet hickory sauce',\n",
       "       ...\n",
       "       'chicken ceasar wrap', 'grass fed angus ground beef 93/7',\n",
       "       'flutter balls', 'nutrisca lamb and chickpea recipe dog food',\n",
       "       'diamond sauvignon blanc', 'complete lice elimination kit',\n",
       "       'cappuccino gelato', 'maple pecan ice cream',\n",
       "       'energy coffee beverage vanilla', 'fresh foaming cleanser'],\n",
       "      dtype='object', length=48332)"
      ]
     },
     "execution_count": 36,
     "metadata": {},
     "output_type": "execute_result"
    }
   ],
   "source": [
    "# Verifique os nomes de produtos duplicados que não estão faltando\n",
    "products_df['product_name'].value_counts().index"
   ]
  },
  {
   "cell_type": "markdown",
   "id": "9da8d293",
   "metadata": {
    "id": "9da8d293"
   },
   "source": [
    "Descreva brevemente suas conclusões e o que você fez com elas."
   ]
  },
  {
   "cell_type": "markdown",
   "id": "c985d931",
   "metadata": {},
   "source": [
    "**RESPOSTA: não há linhas completamente duplicadas no dataset. Contudo, há nomes de produtos que se repetem com IDs diferentes, o que é um erro. Para corrigir isso, encontrei os nomes duplicados utilizando o método _unique()_ no dataframe que só continha os itens duplicados. Em seguida, mapeei os ids_antigos com o novo id. Para evitar inconsistência como ids de produtos que não existem na relação entre os dataframes _order_product_df_ e _products_df_, realizei a atualização dos ids em  _order_product_df_ e por fim removi as linhas com nomes duplicados do dataframe _products_df_**"
   ]
  },
  {
   "cell_type": "markdown",
   "id": "ea0495ce",
   "metadata": {},
   "source": [
    "<div class=\"alert alert-success\">\n",
    "<strong>Comentário do revisor v1</strong>\n",
    "\n",
    "De acordo com como resolveu esses duplicados. Muito bom!\n",
    "</div>\n"
   ]
  },
  {
   "cell_type": "markdown",
   "id": "60f30db1",
   "metadata": {
    "id": "60f30db1"
   },
   "source": [
    "### DataFrame `departments`"
   ]
  },
  {
   "cell_type": "code",
   "execution_count": 37,
   "id": "fb410ad4-0fbf-4b80-bb09-23fdea79afe3",
   "metadata": {
    "id": "fb410ad4-0fbf-4b80-bb09-23fdea79afe3"
   },
   "outputs": [
    {
     "data": {
      "text/plain": [
       "0"
      ]
     },
     "execution_count": 37,
     "metadata": {},
     "output_type": "execute_result"
    }
   ],
   "source": [
    "# Verifique se há linhas completamente duplicadas\n",
    "departments_df.duplicated().sum()"
   ]
  },
  {
   "cell_type": "code",
   "execution_count": 38,
   "id": "332b12bb",
   "metadata": {
    "id": "332b12bb"
   },
   "outputs": [
    {
     "data": {
      "text/plain": [
       "0"
      ]
     },
     "execution_count": 38,
     "metadata": {},
     "output_type": "execute_result"
    }
   ],
   "source": [
    "# Verifique apenas se há IDs dos produtos duplicados\n",
    "departments_df.duplicated(subset = ['department_id']).sum()"
   ]
  },
  {
   "cell_type": "markdown",
   "id": "bd30d78e",
   "metadata": {
    "id": "bd30d78e"
   },
   "source": [
    "Descreva brevemente suas conclusões e o que você fez com elas."
   ]
  },
  {
   "cell_type": "markdown",
   "id": "513f1155",
   "metadata": {},
   "source": [
    "**RESPOSTA: Não há linhas duplicadas e, portanto, não há a necessidade de utilizar métodos de remoção de linhas duplicadas**"
   ]
  },
  {
   "cell_type": "markdown",
   "id": "889349c1",
   "metadata": {
    "id": "889349c1"
   },
   "source": [
    "### DataFrame `aisles`"
   ]
  },
  {
   "cell_type": "code",
   "execution_count": 39,
   "id": "9da89fb9-4679-40f5-ad0d-c34df753a3f8",
   "metadata": {
    "id": "9da89fb9-4679-40f5-ad0d-c34df753a3f8"
   },
   "outputs": [
    {
     "data": {
      "text/plain": [
       "0"
      ]
     },
     "execution_count": 39,
     "metadata": {},
     "output_type": "execute_result"
    }
   ],
   "source": [
    "# Verifique se há linhas completamente duplicadas\n",
    "aisles_df.duplicated().sum()"
   ]
  },
  {
   "cell_type": "code",
   "execution_count": 40,
   "id": "da7c2822",
   "metadata": {
    "id": "da7c2822"
   },
   "outputs": [
    {
     "data": {
      "text/plain": [
       "0"
      ]
     },
     "execution_count": 40,
     "metadata": {},
     "output_type": "execute_result"
    }
   ],
   "source": [
    "# Verifique apenas se há IDs dos produtos duplicados\n",
    "aisles_df.duplicated(subset = ['aisle_id']).sum()"
   ]
  },
  {
   "cell_type": "markdown",
   "id": "ac63826f",
   "metadata": {
    "id": "ac63826f"
   },
   "source": [
    "Descreva brevemente suas conclusões e o que você fez com elas."
   ]
  },
  {
   "cell_type": "markdown",
   "id": "309c26cc",
   "metadata": {},
   "source": [
    "**RESPOSTA: Não há linhas duplicadas e, portanto, não há a necessidade de utilizar métodos de remoção de linhas duplicadas**"
   ]
  },
  {
   "cell_type": "markdown",
   "id": "274cd06a",
   "metadata": {
    "id": "274cd06a"
   },
   "source": [
    "### DataFrame `order_products`"
   ]
  },
  {
   "cell_type": "code",
   "execution_count": 41,
   "id": "52326689-84a8-4b8f-a881-7c68780f62c9",
   "metadata": {
    "id": "52326689-84a8-4b8f-a881-7c68780f62c9"
   },
   "outputs": [
    {
     "data": {
      "text/plain": [
       "0"
      ]
     },
     "execution_count": 41,
     "metadata": {},
     "output_type": "execute_result"
    }
   ],
   "source": [
    "# Verifique se há linhas completamente duplicadas\n",
    "order_product_df.duplicated().sum()"
   ]
  },
  {
   "cell_type": "code",
   "execution_count": 42,
   "id": "7b861391",
   "metadata": {
    "id": "7b861391"
   },
   "outputs": [
    {
     "data": {
      "text/plain": [
       "0"
      ]
     },
     "execution_count": 42,
     "metadata": {},
     "output_type": "execute_result"
    }
   ],
   "source": [
    "# Verifique mais uma vez se há outros casos complicados de duplicados\n",
    "order_product_df.duplicated(subset = ['order_id','product_id','add_to_cart_order']).sum()"
   ]
  },
  {
   "cell_type": "markdown",
   "id": "0b890492",
   "metadata": {
    "id": "0b890492"
   },
   "source": [
    "Descreva brevemente suas conclusões e o que você fez com elas."
   ]
  },
  {
   "cell_type": "markdown",
   "id": "b8cc9723",
   "metadata": {},
   "source": [
    "**RESPOSTA: Uma vez que não há uma repetição de um pedido com o mesmo produto e na mesma posição da fila do carrinho, não há casos de duplicação nesse Dataframe**"
   ]
  },
  {
   "cell_type": "markdown",
   "id": "b8ee72c1",
   "metadata": {},
   "source": [
    "<div class=\"alert alert-success\">\n",
    "<strong>Comentário do revisor v1</strong>\n",
    "\n",
    "Bom trabalho com o check desses dfs.\n",
    "</div>\n"
   ]
  },
  {
   "cell_type": "markdown",
   "id": "1e46de76",
   "metadata": {
    "id": "1e46de76"
   },
   "source": [
    "## Encontre e remova valores ausentes\n",
    "\n",
    "\n",
    "Ao processarmos valores duplicados, observamos que também temos valores ausentes que precisamos investigar nas seguintes colunas:\n",
    "\n",
    "*\tA coluna `'product_name'` da tabela products.\n",
    "*\tA coluna `'days_since_prior_order'` da tabela orders.\n",
    "*\tA coluna `'add_to_cart_order'` da tabela order_products.\n"
   ]
  },
  {
   "cell_type": "markdown",
   "id": "c0aebd78",
   "metadata": {
    "id": "c0aebd78"
   },
   "source": [
    "### DataFrame `products`"
   ]
  },
  {
   "cell_type": "code",
   "execution_count": 43,
   "id": "fe4a8b0f",
   "metadata": {
    "id": "fe4a8b0f",
    "scrolled": true
   },
   "outputs": [
    {
     "data": {
      "text/html": [
       "<div>\n",
       "<style scoped>\n",
       "    .dataframe tbody tr th:only-of-type {\n",
       "        vertical-align: middle;\n",
       "    }\n",
       "\n",
       "    .dataframe tbody tr th {\n",
       "        vertical-align: top;\n",
       "    }\n",
       "\n",
       "    .dataframe thead th {\n",
       "        text-align: right;\n",
       "    }\n",
       "</style>\n",
       "<table border=\"1\" class=\"dataframe\">\n",
       "  <thead>\n",
       "    <tr style=\"text-align: right;\">\n",
       "      <th></th>\n",
       "      <th>product_id</th>\n",
       "      <th>product_name</th>\n",
       "      <th>aisle_id</th>\n",
       "      <th>department_id</th>\n",
       "    </tr>\n",
       "  </thead>\n",
       "  <tbody>\n",
       "    <tr>\n",
       "      <th>37</th>\n",
       "      <td>38</td>\n",
       "      <td>NaN</td>\n",
       "      <td>100</td>\n",
       "      <td>21</td>\n",
       "    </tr>\n",
       "  </tbody>\n",
       "</table>\n",
       "</div>"
      ],
      "text/plain": [
       "   product_id product_name aisle_id department_id\n",
       "37         38          NaN      100            21"
      ]
     },
     "execution_count": 43,
     "metadata": {},
     "output_type": "execute_result"
    }
   ],
   "source": [
    "# Encontre valores ausentes na coluna 'product_name'\n",
    "products_null = products_df[products_df['product_name'].isnull()]\n",
    "products_null"
   ]
  },
  {
   "cell_type": "markdown",
   "id": "-A6x1AbJhjkp",
   "metadata": {
    "id": "-A6x1AbJhjkp"
   },
   "source": [
    "Descreva brevemente suas conclusões."
   ]
  },
  {
   "cell_type": "markdown",
   "id": "55b25c3f",
   "metadata": {},
   "source": [
    "**RESPOSTA: Uma pequena amostra dos produtos nos indica que possivelmente todos os produtos sem nome possuem o número de categoria de seção no valor 100 e a categoria de departamente com o valor 21.**"
   ]
  },
  {
   "cell_type": "code",
   "execution_count": 44,
   "id": "e96167bc",
   "metadata": {
    "id": "e96167bc"
   },
   "outputs": [
    {
     "data": {
      "text/plain": [
       "True"
      ]
     },
     "execution_count": 44,
     "metadata": {},
     "output_type": "execute_result"
    }
   ],
   "source": [
    "# Todos os nomes de produtos ausentes estão associados com a seção de ID 100?\n",
    "products_null[products_null['aisle_id'] == 100].shape[0] == products_null.shape[0]"
   ]
  },
  {
   "cell_type": "markdown",
   "id": "WRpIfXRphpSL",
   "metadata": {
    "id": "WRpIfXRphpSL"
   },
   "source": [
    "Descreva brevemente suas conclusões."
   ]
  },
  {
   "cell_type": "markdown",
   "id": "e8c8157f",
   "metadata": {},
   "source": [
    "**Sim. Todas as linhas estão associadas com a seção de ID 100**"
   ]
  },
  {
   "cell_type": "code",
   "execution_count": 45,
   "id": "8fd0a541",
   "metadata": {
    "id": "8fd0a541"
   },
   "outputs": [
    {
     "data": {
      "text/plain": [
       "True"
      ]
     },
     "execution_count": 45,
     "metadata": {},
     "output_type": "execute_result"
    }
   ],
   "source": [
    "# Todos os nomes de produtos ausentes estão associados com o departamento de ID 21?\n",
    "products_null[products_null['department_id'] == 21].shape[0] == products_null.shape[0]"
   ]
  },
  {
   "cell_type": "markdown",
   "id": "qDpdYn1Fht_I",
   "metadata": {
    "id": "qDpdYn1Fht_I"
   },
   "source": [
    "Descreva brevemente suas conclusões."
   ]
  },
  {
   "cell_type": "markdown",
   "id": "d208d4ae",
   "metadata": {},
   "source": [
    "**Sim. Todas as linhas estão associadas com o departamento de ID 21**"
   ]
  },
  {
   "cell_type": "code",
   "execution_count": 46,
   "id": "325c3464",
   "metadata": {
    "id": "325c3464"
   },
   "outputs": [
    {
     "name": "stdout",
     "output_type": "stream",
     "text": [
      "   aisle_id    aisle\n",
      "99      100  missing\n",
      "   department_id department\n",
      "20            21    missing\n"
     ]
    }
   ],
   "source": [
    "# Use as tabelas de departamentos e seções para verificar os dados da seção ID 100 e do departamento ID 21.\n",
    "print(aisles_df[aisles_df['aisle_id'] == 100])\n",
    "print(departments_df[departments_df['department_id'] == 21])"
   ]
  },
  {
   "cell_type": "markdown",
   "id": "nqhSTUPhhvEJ",
   "metadata": {
    "id": "nqhSTUPhhvEJ"
   },
   "source": [
    "Descreva brevemente suas conclusões."
   ]
  },
  {
   "cell_type": "markdown",
   "id": "5032019d",
   "metadata": {},
   "source": [
    "**RESPOSTA: Observa-se que tanto a seção quanto o departamento não possuem nomes associados. Portanto, é natural que produtos dessa seção e departamento também possuam valores desconhecidos.**"
   ]
  },
  {
   "cell_type": "code",
   "execution_count": 47,
   "id": "6b295120",
   "metadata": {
    "id": "6b295120",
    "scrolled": true
   },
   "outputs": [],
   "source": [
    "# Preencha nomes de produtos ausentes com 'Unknown'\n",
    "products_df['product_name'].fillna('Unknown', inplace = True)"
   ]
  },
  {
   "cell_type": "code",
   "execution_count": 48,
   "id": "1483a843",
   "metadata": {},
   "outputs": [
    {
     "data": {
      "text/plain": [
       "0"
      ]
     },
     "execution_count": 48,
     "metadata": {},
     "output_type": "execute_result"
    }
   ],
   "source": [
    "products_df['product_name'].isnull().sum()"
   ]
  },
  {
   "cell_type": "code",
   "execution_count": 49,
   "id": "f43516f8",
   "metadata": {},
   "outputs": [
    {
     "data": {
      "text/plain": [
       "(48333, 4)"
      ]
     },
     "execution_count": 49,
     "metadata": {},
     "output_type": "execute_result"
    }
   ],
   "source": [
    "products_df.shape"
   ]
  },
  {
   "cell_type": "markdown",
   "id": "fc70e5ad",
   "metadata": {
    "id": "fc70e5ad"
   },
   "source": [
    "Descreva brevemente suas conclusões e o que você fez com elas."
   ]
  },
  {
   "cell_type": "markdown",
   "id": "6bec9f01",
   "metadata": {},
   "source": [
    "**Resposta: Já que apenas pouco mais de mil linhas de 49464 possuem a ausência de nomes de produtos, preenche-los com \"Unknown\" não irá compremeter na análise de dados. Contudo, se esse valor fosse mais representativo (por exemplo, 12.000 linhas) o correto seria investigar com o setor de engenharia de dados do supermercado uma maneira de dar nome a esses produtos.**"
   ]
  },
  {
   "cell_type": "markdown",
   "id": "1e6c67aa",
   "metadata": {},
   "source": [
    "<div class=\"alert alert-success\">\n",
    "<strong>Comentário do revisor v1</strong>\n",
    "\n",
    "Bom trabalho a detecção e tratamento desses missings, muito bom!\n",
    "</div>\n"
   ]
  },
  {
   "cell_type": "markdown",
   "id": "7eb45c86",
   "metadata": {
    "id": "7eb45c86"
   },
   "source": [
    "### DataFrame `orders`"
   ]
  },
  {
   "cell_type": "code",
   "execution_count": 50,
   "id": "93e41d96",
   "metadata": {
    "id": "93e41d96"
   },
   "outputs": [
    {
     "data": {
      "text/plain": [
       "order_id                      0\n",
       "user_id                       0\n",
       "order_number                  0\n",
       "order_dow                     0\n",
       "order_hour_of_day             0\n",
       "days_since_prior_order    28817\n",
       "dtype: int64"
      ]
     },
     "execution_count": 50,
     "metadata": {},
     "output_type": "execute_result"
    }
   ],
   "source": [
    "# Encontre os valores ausentes\n",
    "orders_df.isnull().sum()"
   ]
  },
  {
   "cell_type": "code",
   "execution_count": 51,
   "id": "c8090e81",
   "metadata": {},
   "outputs": [
    {
     "data": {
      "text/html": [
       "<div>\n",
       "<style scoped>\n",
       "    .dataframe tbody tr th:only-of-type {\n",
       "        vertical-align: middle;\n",
       "    }\n",
       "\n",
       "    .dataframe tbody tr th {\n",
       "        vertical-align: top;\n",
       "    }\n",
       "\n",
       "    .dataframe thead th {\n",
       "        text-align: right;\n",
       "    }\n",
       "</style>\n",
       "<table border=\"1\" class=\"dataframe\">\n",
       "  <thead>\n",
       "    <tr style=\"text-align: right;\">\n",
       "      <th></th>\n",
       "      <th>order_id</th>\n",
       "      <th>user_id</th>\n",
       "      <th>order_number</th>\n",
       "      <th>order_dow</th>\n",
       "      <th>order_hour_of_day</th>\n",
       "      <th>days_since_prior_order</th>\n",
       "    </tr>\n",
       "  </thead>\n",
       "  <tbody>\n",
       "    <tr>\n",
       "      <th>28</th>\n",
       "      <td>133707</td>\n",
       "      <td>182261</td>\n",
       "      <td>1</td>\n",
       "      <td>3</td>\n",
       "      <td>10</td>\n",
       "      <td>NaN</td>\n",
       "    </tr>\n",
       "    <tr>\n",
       "      <th>96</th>\n",
       "      <td>787445</td>\n",
       "      <td>25685</td>\n",
       "      <td>1</td>\n",
       "      <td>6</td>\n",
       "      <td>18</td>\n",
       "      <td>NaN</td>\n",
       "    </tr>\n",
       "    <tr>\n",
       "      <th>100</th>\n",
       "      <td>294410</td>\n",
       "      <td>111449</td>\n",
       "      <td>1</td>\n",
       "      <td>0</td>\n",
       "      <td>19</td>\n",
       "      <td>NaN</td>\n",
       "    </tr>\n",
       "    <tr>\n",
       "      <th>103</th>\n",
       "      <td>2869915</td>\n",
       "      <td>123958</td>\n",
       "      <td>1</td>\n",
       "      <td>4</td>\n",
       "      <td>16</td>\n",
       "      <td>NaN</td>\n",
       "    </tr>\n",
       "    <tr>\n",
       "      <th>104</th>\n",
       "      <td>2521921</td>\n",
       "      <td>42286</td>\n",
       "      <td>1</td>\n",
       "      <td>3</td>\n",
       "      <td>18</td>\n",
       "      <td>NaN</td>\n",
       "    </tr>\n",
       "    <tr>\n",
       "      <th>...</th>\n",
       "      <td>...</td>\n",
       "      <td>...</td>\n",
       "      <td>...</td>\n",
       "      <td>...</td>\n",
       "      <td>...</td>\n",
       "      <td>...</td>\n",
       "    </tr>\n",
       "    <tr>\n",
       "      <th>478880</th>\n",
       "      <td>2589657</td>\n",
       "      <td>205028</td>\n",
       "      <td>1</td>\n",
       "      <td>0</td>\n",
       "      <td>16</td>\n",
       "      <td>NaN</td>\n",
       "    </tr>\n",
       "    <tr>\n",
       "      <th>478881</th>\n",
       "      <td>2222353</td>\n",
       "      <td>141211</td>\n",
       "      <td>1</td>\n",
       "      <td>2</td>\n",
       "      <td>13</td>\n",
       "      <td>NaN</td>\n",
       "    </tr>\n",
       "    <tr>\n",
       "      <th>478907</th>\n",
       "      <td>2272807</td>\n",
       "      <td>204154</td>\n",
       "      <td>1</td>\n",
       "      <td>1</td>\n",
       "      <td>15</td>\n",
       "      <td>NaN</td>\n",
       "    </tr>\n",
       "    <tr>\n",
       "      <th>478911</th>\n",
       "      <td>2499542</td>\n",
       "      <td>68810</td>\n",
       "      <td>1</td>\n",
       "      <td>4</td>\n",
       "      <td>19</td>\n",
       "      <td>NaN</td>\n",
       "    </tr>\n",
       "    <tr>\n",
       "      <th>478930</th>\n",
       "      <td>1387033</td>\n",
       "      <td>22496</td>\n",
       "      <td>1</td>\n",
       "      <td>5</td>\n",
       "      <td>14</td>\n",
       "      <td>NaN</td>\n",
       "    </tr>\n",
       "  </tbody>\n",
       "</table>\n",
       "<p>28817 rows × 6 columns</p>\n",
       "</div>"
      ],
      "text/plain": [
       "       order_id user_id  order_number  order_dow  order_hour_of_day  \\\n",
       "28       133707  182261             1          3                 10   \n",
       "96       787445   25685             1          6                 18   \n",
       "100      294410  111449             1          0                 19   \n",
       "103     2869915  123958             1          4                 16   \n",
       "104     2521921   42286             1          3                 18   \n",
       "...         ...     ...           ...        ...                ...   \n",
       "478880  2589657  205028             1          0                 16   \n",
       "478881  2222353  141211             1          2                 13   \n",
       "478907  2272807  204154             1          1                 15   \n",
       "478911  2499542   68810             1          4                 19   \n",
       "478930  1387033   22496             1          5                 14   \n",
       "\n",
       "        days_since_prior_order  \n",
       "28                         NaN  \n",
       "96                         NaN  \n",
       "100                        NaN  \n",
       "103                        NaN  \n",
       "104                        NaN  \n",
       "...                        ...  \n",
       "478880                     NaN  \n",
       "478881                     NaN  \n",
       "478907                     NaN  \n",
       "478911                     NaN  \n",
       "478930                     NaN  \n",
       "\n",
       "[28817 rows x 6 columns]"
      ]
     },
     "execution_count": 51,
     "metadata": {},
     "output_type": "execute_result"
    }
   ],
   "source": [
    "orders_null = orders_df[orders_df['days_since_prior_order'].isnull()]\n",
    "orders_null"
   ]
  },
  {
   "cell_type": "code",
   "execution_count": 52,
   "id": "166e5a86",
   "metadata": {
    "id": "166e5a86"
   },
   "outputs": [
    {
     "data": {
      "text/html": [
       "<div>\n",
       "<style scoped>\n",
       "    .dataframe tbody tr th:only-of-type {\n",
       "        vertical-align: middle;\n",
       "    }\n",
       "\n",
       "    .dataframe tbody tr th {\n",
       "        vertical-align: top;\n",
       "    }\n",
       "\n",
       "    .dataframe thead th {\n",
       "        text-align: right;\n",
       "    }\n",
       "</style>\n",
       "<table border=\"1\" class=\"dataframe\">\n",
       "  <thead>\n",
       "    <tr style=\"text-align: right;\">\n",
       "      <th></th>\n",
       "      <th>order_id</th>\n",
       "      <th>user_id</th>\n",
       "      <th>order_number</th>\n",
       "      <th>order_dow</th>\n",
       "      <th>order_hour_of_day</th>\n",
       "      <th>days_since_prior_order</th>\n",
       "    </tr>\n",
       "  </thead>\n",
       "  <tbody>\n",
       "  </tbody>\n",
       "</table>\n",
       "</div>"
      ],
      "text/plain": [
       "Empty DataFrame\n",
       "Columns: [order_id, user_id, order_number, order_dow, order_hour_of_day, days_since_prior_order]\n",
       "Index: []"
      ]
     },
     "execution_count": 52,
     "metadata": {},
     "output_type": "execute_result"
    }
   ],
   "source": [
    "# Há valores ausentes para os clientes que não estão fazendo o primeiro pedido?\n",
    "orders_null[orders_null['order_number'] > 1]"
   ]
  },
  {
   "cell_type": "markdown",
   "id": "4e23d089",
   "metadata": {
    "id": "4e23d089"
   },
   "source": [
    "Descreva brevemente suas conclusões e o que você fez com elas."
   ]
  },
  {
   "cell_type": "markdown",
   "id": "0355bd3e",
   "metadata": {},
   "source": [
    "**Resposta: Só há valores ausentes para clientes que estão fazendo o primeiro pedido. Uma vez que 'days_since_prior_order' é o número de dias desde que o cliente fez seu pedido anterior, é natural que para clientes que nunca realizaram compras o valor padrão dessa célula seja igual a \"NaN\".**"
   ]
  },
  {
   "cell_type": "markdown",
   "id": "f94ace3d",
   "metadata": {},
   "source": [
    "<div class=\"alert alert-success\">\n",
    "<strong>Comentário do revisor v1</strong>\n",
    "\n",
    "Faz sentido, certo? Perfeito o diagnóstico!\n",
    "</div>\n"
   ]
  },
  {
   "cell_type": "markdown",
   "id": "69dc9ca4",
   "metadata": {
    "id": "69dc9ca4"
   },
   "source": [
    "### DataFrame `order_products`"
   ]
  },
  {
   "cell_type": "code",
   "execution_count": 53,
   "id": "b8240253",
   "metadata": {
    "id": "b8240253",
    "scrolled": true
   },
   "outputs": [
    {
     "data": {
      "text/plain": [
       "order_id               0\n",
       "product_id             0\n",
       "add_to_cart_order    836\n",
       "reordered              0\n",
       "dtype: int64"
      ]
     },
     "execution_count": 53,
     "metadata": {},
     "output_type": "execute_result"
    }
   ],
   "source": [
    "# Encontre os valores ausentes\n",
    "order_product_df.isnull().sum()"
   ]
  },
  {
   "cell_type": "markdown",
   "id": "7792989f",
   "metadata": {},
   "source": [
    "**RESPOSTA: 836 valores ausentes na coluna _\"add_to_cart_order\"_**"
   ]
  },
  {
   "cell_type": "code",
   "execution_count": 54,
   "id": "9a78e5ee",
   "metadata": {
    "id": "9a78e5ee"
   },
   "outputs": [
    {
     "data": {
      "text/plain": [
       "min     1.0\n",
       "max    64.0\n",
       "Name: add_to_cart_order, dtype: float64"
      ]
     },
     "execution_count": 54,
     "metadata": {},
     "output_type": "execute_result"
    }
   ],
   "source": [
    "# Quais são os valores mínimo e máximo dessa coluna?\n",
    "order_product_df['add_to_cart_order'].describe()[['min', 'max']]"
   ]
  },
  {
   "cell_type": "markdown",
   "id": "-Z2Ja215jW78",
   "metadata": {
    "id": "-Z2Ja215jW78"
   },
   "source": [
    "Descreva brevemente suas conclusões."
   ]
  },
  {
   "cell_type": "markdown",
   "id": "708f061e",
   "metadata": {},
   "source": [
    "**RESPOSTA: valor mínimo é 1, afinal, esse é o valor natural que o primeiro item a ser colocado em um carrinho de supermercado vai ter. já o valor máximo é 64, indicando que nenhuma compra passou de 64 itens comprados em sequência.**"
   ]
  },
  {
   "cell_type": "code",
   "execution_count": 55,
   "id": "ab9d0c2b",
   "metadata": {
    "id": "ab9d0c2b"
   },
   "outputs": [],
   "source": [
    "# Salve todos os IDs dos pedidos com pelo menos um valor ausente em 'add_to_cart_order'\n",
    "order_product_null = order_product_df[order_product_df['add_to_cart_order'].isnull()]"
   ]
  },
  {
   "cell_type": "code",
   "execution_count": 56,
   "id": "54c31695",
   "metadata": {
    "id": "54c31695",
    "scrolled": true
   },
   "outputs": [
    {
     "data": {
      "text/plain": [
       "61355      63\n",
       "3308010    51\n",
       "2136777    44\n",
       "171934     40\n",
       "1959075    34\n",
       "           ..\n",
       "888470      1\n",
       "2621907     1\n",
       "2729254     1\n",
       "9310        1\n",
       "2170451     1\n",
       "Name: order_id, Length: 70, dtype: int64"
      ]
     },
     "execution_count": 56,
     "metadata": {},
     "output_type": "execute_result"
    }
   ],
   "source": [
    "# Todos os pedidos com valores ausentes contêm mais de 64 produtos?\n",
    "\n",
    "order_product_null['order_id'].value_counts()"
   ]
  },
  {
   "cell_type": "code",
   "execution_count": 57,
   "id": "1e9fde53",
   "metadata": {},
   "outputs": [
    {
     "data": {
      "text/html": [
       "<div>\n",
       "<style scoped>\n",
       "    .dataframe tbody tr th:only-of-type {\n",
       "        vertical-align: middle;\n",
       "    }\n",
       "\n",
       "    .dataframe tbody tr th {\n",
       "        vertical-align: top;\n",
       "    }\n",
       "\n",
       "    .dataframe thead th {\n",
       "        text-align: right;\n",
       "    }\n",
       "</style>\n",
       "<table border=\"1\" class=\"dataframe\">\n",
       "  <thead>\n",
       "    <tr style=\"text-align: right;\">\n",
       "      <th></th>\n",
       "      <th>order_id</th>\n",
       "      <th>product_id</th>\n",
       "      <th>add_to_cart_order</th>\n",
       "      <th>reordered</th>\n",
       "    </tr>\n",
       "  </thead>\n",
       "  <tbody>\n",
       "    <tr>\n",
       "      <th>57981</th>\n",
       "      <td>61355</td>\n",
       "      <td>5322</td>\n",
       "      <td>NaN</td>\n",
       "      <td>0</td>\n",
       "    </tr>\n",
       "    <tr>\n",
       "      <th>247893</th>\n",
       "      <td>61355</td>\n",
       "      <td>8594</td>\n",
       "      <td>NaN</td>\n",
       "      <td>0</td>\n",
       "    </tr>\n",
       "    <tr>\n",
       "      <th>381535</th>\n",
       "      <td>61355</td>\n",
       "      <td>12315</td>\n",
       "      <td>NaN</td>\n",
       "      <td>0</td>\n",
       "    </tr>\n",
       "    <tr>\n",
       "      <th>399791</th>\n",
       "      <td>61355</td>\n",
       "      <td>10199</td>\n",
       "      <td>NaN</td>\n",
       "      <td>0</td>\n",
       "    </tr>\n",
       "    <tr>\n",
       "      <th>427017</th>\n",
       "      <td>61355</td>\n",
       "      <td>5552</td>\n",
       "      <td>NaN</td>\n",
       "      <td>0</td>\n",
       "    </tr>\n",
       "    <tr>\n",
       "      <th>...</th>\n",
       "      <td>...</td>\n",
       "      <td>...</td>\n",
       "      <td>...</td>\n",
       "      <td>...</td>\n",
       "    </tr>\n",
       "    <tr>\n",
       "      <th>4026844</th>\n",
       "      <td>61355</td>\n",
       "      <td>48104</td>\n",
       "      <td>NaN</td>\n",
       "      <td>0</td>\n",
       "    </tr>\n",
       "    <tr>\n",
       "      <th>4063159</th>\n",
       "      <td>61355</td>\n",
       "      <td>1087</td>\n",
       "      <td>NaN</td>\n",
       "      <td>0</td>\n",
       "    </tr>\n",
       "    <tr>\n",
       "      <th>4126014</th>\n",
       "      <td>61355</td>\n",
       "      <td>12440</td>\n",
       "      <td>NaN</td>\n",
       "      <td>0</td>\n",
       "    </tr>\n",
       "    <tr>\n",
       "      <th>4164200</th>\n",
       "      <td>61355</td>\n",
       "      <td>9484</td>\n",
       "      <td>NaN</td>\n",
       "      <td>0</td>\n",
       "    </tr>\n",
       "    <tr>\n",
       "      <th>4268097</th>\n",
       "      <td>61355</td>\n",
       "      <td>40709</td>\n",
       "      <td>NaN</td>\n",
       "      <td>0</td>\n",
       "    </tr>\n",
       "  </tbody>\n",
       "</table>\n",
       "<p>63 rows × 4 columns</p>\n",
       "</div>"
      ],
      "text/plain": [
       "        order_id product_id  add_to_cart_order reordered\n",
       "57981      61355       5322                NaN         0\n",
       "247893     61355       8594                NaN         0\n",
       "381535     61355      12315                NaN         0\n",
       "399791     61355      10199                NaN         0\n",
       "427017     61355       5552                NaN         0\n",
       "...          ...        ...                ...       ...\n",
       "4026844    61355      48104                NaN         0\n",
       "4063159    61355       1087                NaN         0\n",
       "4126014    61355      12440                NaN         0\n",
       "4164200    61355       9484                NaN         0\n",
       "4268097    61355      40709                NaN         0\n",
       "\n",
       "[63 rows x 4 columns]"
      ]
     },
     "execution_count": 57,
     "metadata": {},
     "output_type": "execute_result"
    }
   ],
   "source": [
    "##Verificando o pedido com mais itens.\n",
    "\n",
    "order_product_null[order_product_null['order_id'] == 61355]"
   ]
  },
  {
   "cell_type": "code",
   "execution_count": 58,
   "id": "0a282759",
   "metadata": {},
   "outputs": [
    {
     "data": {
      "text/plain": [
       "1"
      ]
     },
     "execution_count": 58,
     "metadata": {},
     "output_type": "execute_result"
    }
   ],
   "source": [
    "# Agrupe os pedidos com dados ausentes por ID de pedido\n",
    "# Conte o número de 'product_id' em cada pedido e verifique o valor mínimo da contagem\n",
    "order_product_null.groupby('order_id')['product_id'].count().min()\n"
   ]
  },
  {
   "cell_type": "markdown",
   "id": "p9V6pddtjglj",
   "metadata": {
    "id": "p9V6pddtjglj"
   },
   "source": [
    "Descreva brevemente suas conclusões."
   ]
  },
  {
   "cell_type": "markdown",
   "id": "6ed36e9c",
   "metadata": {},
   "source": [
    "**RESPOSTA: Todos os valores possuem menos de 64 produtos. Além disso, todos os pedidos com dados ausentes possuem pelo menos um produto**"
   ]
  },
  {
   "cell_type": "markdown",
   "id": "bc24f722",
   "metadata": {},
   "source": [
    "<div class=\"alert alert-warning\">\n",
    "<strong>Comentário do revisor v1</strong>\n",
    "\n",
    "64 acaba sendo bastante coisa para um pedido só né? Pode estar certo, mas será que não valeria um check?\n",
    "</div>\n"
   ]
  },
  {
   "cell_type": "markdown",
   "id": "c0eb615f",
   "metadata": {},
   "source": [
    "<div class=\"alert alert-info\">\n",
    "<strong>Comentário do estudante v1</strong>\n",
    "\n",
    "Essa deve ser uma inspeção visual? Eu realizei a impressão do dataframe filtrado apenas para o pedido com mais itens, com order_id = 61355\n",
    "</div>"
   ]
  },
  {
   "cell_type": "code",
   "execution_count": 59,
   "id": "908837df",
   "metadata": {},
   "outputs": [
    {
     "data": {
      "text/plain": [
       "count    4.544171e+06\n",
       "mean     8.351669e+00\n",
       "std      7.080368e+00\n",
       "min      1.000000e+00\n",
       "25%      3.000000e+00\n",
       "50%      6.000000e+00\n",
       "75%      1.100000e+01\n",
       "max      6.400000e+01\n",
       "Name: add_to_cart_order, dtype: float64"
      ]
     },
     "execution_count": 59,
     "metadata": {},
     "output_type": "execute_result"
    }
   ],
   "source": [
    "## Descrições numéricas antes de preencher valores ausentes\n",
    "\n",
    "order_product_df['add_to_cart_order'].describe()"
   ]
  },
  {
   "cell_type": "code",
   "execution_count": 60,
   "id": "7a987d08",
   "metadata": {
    "id": "7a987d08",
    "scrolled": true
   },
   "outputs": [
    {
     "data": {
      "text/plain": [
       "True"
      ]
     },
     "execution_count": 60,
     "metadata": {},
     "output_type": "execute_result"
    }
   ],
   "source": [
    "# Substitua valores ausentes na coluna 'add_to_cart_order' por 999 e converta a coluna para o tipo integer\n",
    "order_product_df['add_to_cart_order'].fillna(999, inplace=True)\n",
    "np.array_equal(order_product_df['add_to_cart_order'], order_product_df['add_to_cart_order'].astype('int'))"
   ]
  },
  {
   "cell_type": "code",
   "execution_count": 61,
   "id": "80ce3d70",
   "metadata": {},
   "outputs": [],
   "source": [
    "order_product_df['add_to_cart_order'] = order_product_df['add_to_cart_order'].astype('int')"
   ]
  },
  {
   "cell_type": "code",
   "execution_count": 62,
   "id": "169d3817",
   "metadata": {},
   "outputs": [
    {
     "data": {
      "text/plain": [
       "count    4.545007e+06\n",
       "mean     8.533887e+00\n",
       "std      1.518562e+01\n",
       "min      1.000000e+00\n",
       "25%      3.000000e+00\n",
       "50%      6.000000e+00\n",
       "75%      1.100000e+01\n",
       "max      9.990000e+02\n",
       "Name: add_to_cart_order, dtype: float64"
      ]
     },
     "execution_count": 62,
     "metadata": {},
     "output_type": "execute_result"
    }
   ],
   "source": [
    "## Descrições numéricas após preencher valores ausentes\n",
    "order_product_df['add_to_cart_order'].describe()"
   ]
  },
  {
   "cell_type": "markdown",
   "id": "fea4bcc7",
   "metadata": {
    "id": "fea4bcc7"
   },
   "source": [
    "Descreva brevemente suas conclusões e o que você fez com elas."
   ]
  },
  {
   "cell_type": "markdown",
   "id": "6cfbd39a",
   "metadata": {},
   "source": [
    "~~RESPOSTA: preencher os valores ausentes com 999 é uma boa sugestão, uma vez que não é esperado que uma compra possua mais de 64 produtos no carrinho. Além disso, a conversão da coluna para Int não irá acarretar em perda de informação. Verifica-se isso através do método Numpy \"array_equal\". Portanto, a conversão é segura~~"
   ]
  },
  {
   "cell_type": "markdown",
   "id": "350ebb6e",
   "metadata": {},
   "source": [
    "**RESPOSTA: a comparação entre os valores de desvio padrão antes e após o preenchimento dos valores ausentes me leva a concluir que a utilização do valor 999 em substituição dos valores ausentes não é uma boa medida. Uma vez que o valor de desvio padrão antes era _7.080368_ e passou a ser _15.18562_, observa-se que o preenchimento dos valores ausentes aumentou muito o nível de dispersão dos dados. Portanto, o mais adequeado seria manter o missing.**"
   ]
  },
  {
   "cell_type": "markdown",
   "id": "41c108e4",
   "metadata": {},
   "source": [
    "<div class=\"alert alert-danger\">\n",
    "<strong>Comentário do revisor v1</strong>\n",
    "\n",
    "A utilização de um número arbitrário para esse replace pode ter consequências perigosas dependendo do que for fazer com o df...\n",
    "\n",
    "Pense que em uma eventual modelagem, você vai estar atribuindo um valor muito alto para essas observações que não tem clareza sobre o comportamento em relação a variável.\n",
    "    \n",
    "Aqui minha sugestão seria manter o missing ou fazer um replace condicionado a características específicas que escolheu e validou como outras observações sem missing se comportam nessa variável específica.\n",
    "</div>\n"
   ]
  },
  {
   "cell_type": "markdown",
   "id": "367aad33",
   "metadata": {},
   "source": [
    "<div class=\"alert alert-info\">\n",
    "<strong>Comentário do estudante v1</strong>\n",
    "\n",
    "Mudei a minha opinião. De fato, a utilização desse valor é uma medida perigosa. Fiquei na dúvida se deveria realizar o código pra manter o missing ou só deixo com o valor 999 como foi sugerido na atividade.\n",
    "</div>"
   ]
  },
  {
   "cell_type": "markdown",
   "id": "RnplPFY1gSrb",
   "metadata": {
    "id": "RnplPFY1gSrb"
   },
   "source": [
    "## Conclusões\n",
    "\n",
    "Escreva aqui suas conclusões intermediárias da Etapa 2. Preparação de dados"
   ]
  },
  {
   "cell_type": "markdown",
   "id": "19e03b23",
   "metadata": {},
   "source": [
    "**Nessa etapa eliminou-se linhas onde haviam dados duplicados ou asuntos. Identificar, eliminar ou mesclar essas valores será essencial para tirar conclusões confiáveis na Etapa 3.**"
   ]
  },
  {
   "cell_type": "markdown",
   "id": "UjrOIwTcz3ri",
   "metadata": {
    "id": "UjrOIwTcz3ri"
   },
   "source": [
    "# Etapa 3. Análise de dados\n",
    "\n",
    "Quando os dados estiverem processados ​​e prontos, execute a seguinte análise:"
   ]
  },
  {
   "cell_type": "markdown",
   "id": "turkish-kidney",
   "metadata": {
    "id": "turkish-kidney"
   },
   "source": [
    "# [A] Fácil (é necessário concluir tudo para passar)\n",
    "\n",
    "1.\tVerifique se os valores nas colunas `'order_hour_of_day'` e `'order_dow'` na tabela `orders` fazem sentido (ou seja, os valores da coluna  `'order_hour_of_day'` variam de 0 a 23 e os da `'order_dow'` variam de 0 a 6).\n",
    "2.\tCrie um gráfico que mostre quantas pessoas fazem pedidos por cada hora do dia.\n",
    "3.\tCrie um gráfico que mostre em que dia da semana as pessoas fazem compras.\n",
    "4.\tCrie um gráfico que mostre quanto tempo as pessoas esperam até fazer seu próximo pedido e comente sobre os valores mínimo e máximo.\n"
   ]
  },
  {
   "cell_type": "code",
   "execution_count": 63,
   "id": "1684cf7e",
   "metadata": {},
   "outputs": [
    {
     "data": {
      "text/html": [
       "<div>\n",
       "<style scoped>\n",
       "    .dataframe tbody tr th:only-of-type {\n",
       "        vertical-align: middle;\n",
       "    }\n",
       "\n",
       "    .dataframe tbody tr th {\n",
       "        vertical-align: top;\n",
       "    }\n",
       "\n",
       "    .dataframe thead th {\n",
       "        text-align: right;\n",
       "    }\n",
       "</style>\n",
       "<table border=\"1\" class=\"dataframe\">\n",
       "  <thead>\n",
       "    <tr style=\"text-align: right;\">\n",
       "      <th></th>\n",
       "      <th>order_id</th>\n",
       "      <th>user_id</th>\n",
       "      <th>order_number</th>\n",
       "      <th>order_dow</th>\n",
       "      <th>order_hour_of_day</th>\n",
       "      <th>days_since_prior_order</th>\n",
       "    </tr>\n",
       "  </thead>\n",
       "  <tbody>\n",
       "    <tr>\n",
       "      <th>0</th>\n",
       "      <td>1515936</td>\n",
       "      <td>183418</td>\n",
       "      <td>11</td>\n",
       "      <td>6</td>\n",
       "      <td>13</td>\n",
       "      <td>30.0</td>\n",
       "    </tr>\n",
       "    <tr>\n",
       "      <th>1</th>\n",
       "      <td>1690866</td>\n",
       "      <td>163593</td>\n",
       "      <td>5</td>\n",
       "      <td>5</td>\n",
       "      <td>12</td>\n",
       "      <td>9.0</td>\n",
       "    </tr>\n",
       "    <tr>\n",
       "      <th>2</th>\n",
       "      <td>1454967</td>\n",
       "      <td>39980</td>\n",
       "      <td>4</td>\n",
       "      <td>5</td>\n",
       "      <td>19</td>\n",
       "      <td>2.0</td>\n",
       "    </tr>\n",
       "    <tr>\n",
       "      <th>3</th>\n",
       "      <td>1768857</td>\n",
       "      <td>82516</td>\n",
       "      <td>56</td>\n",
       "      <td>0</td>\n",
       "      <td>20</td>\n",
       "      <td>10.0</td>\n",
       "    </tr>\n",
       "    <tr>\n",
       "      <th>4</th>\n",
       "      <td>3007858</td>\n",
       "      <td>196724</td>\n",
       "      <td>2</td>\n",
       "      <td>4</td>\n",
       "      <td>12</td>\n",
       "      <td>17.0</td>\n",
       "    </tr>\n",
       "    <tr>\n",
       "      <th>...</th>\n",
       "      <td>...</td>\n",
       "      <td>...</td>\n",
       "      <td>...</td>\n",
       "      <td>...</td>\n",
       "      <td>...</td>\n",
       "      <td>...</td>\n",
       "    </tr>\n",
       "    <tr>\n",
       "      <th>478947</th>\n",
       "      <td>3210681</td>\n",
       "      <td>5617</td>\n",
       "      <td>5</td>\n",
       "      <td>1</td>\n",
       "      <td>14</td>\n",
       "      <td>7.0</td>\n",
       "    </tr>\n",
       "    <tr>\n",
       "      <th>478948</th>\n",
       "      <td>3270802</td>\n",
       "      <td>112087</td>\n",
       "      <td>2</td>\n",
       "      <td>3</td>\n",
       "      <td>13</td>\n",
       "      <td>6.0</td>\n",
       "    </tr>\n",
       "    <tr>\n",
       "      <th>478949</th>\n",
       "      <td>885349</td>\n",
       "      <td>82944</td>\n",
       "      <td>16</td>\n",
       "      <td>2</td>\n",
       "      <td>11</td>\n",
       "      <td>6.0</td>\n",
       "    </tr>\n",
       "    <tr>\n",
       "      <th>478950</th>\n",
       "      <td>216274</td>\n",
       "      <td>4391</td>\n",
       "      <td>3</td>\n",
       "      <td>3</td>\n",
       "      <td>8</td>\n",
       "      <td>8.0</td>\n",
       "    </tr>\n",
       "    <tr>\n",
       "      <th>478951</th>\n",
       "      <td>2071924</td>\n",
       "      <td>1730</td>\n",
       "      <td>18</td>\n",
       "      <td>1</td>\n",
       "      <td>14</td>\n",
       "      <td>15.0</td>\n",
       "    </tr>\n",
       "  </tbody>\n",
       "</table>\n",
       "<p>478952 rows × 6 columns</p>\n",
       "</div>"
      ],
      "text/plain": [
       "       order_id user_id  order_number  order_dow  order_hour_of_day  \\\n",
       "0       1515936  183418            11          6                 13   \n",
       "1       1690866  163593             5          5                 12   \n",
       "2       1454967   39980             4          5                 19   \n",
       "3       1768857   82516            56          0                 20   \n",
       "4       3007858  196724             2          4                 12   \n",
       "...         ...     ...           ...        ...                ...   \n",
       "478947  3210681    5617             5          1                 14   \n",
       "478948  3270802  112087             2          3                 13   \n",
       "478949   885349   82944            16          2                 11   \n",
       "478950   216274    4391             3          3                  8   \n",
       "478951  2071924    1730            18          1                 14   \n",
       "\n",
       "        days_since_prior_order  \n",
       "0                         30.0  \n",
       "1                          9.0  \n",
       "2                          2.0  \n",
       "3                         10.0  \n",
       "4                         17.0  \n",
       "...                        ...  \n",
       "478947                     7.0  \n",
       "478948                     6.0  \n",
       "478949                     6.0  \n",
       "478950                     8.0  \n",
       "478951                    15.0  \n",
       "\n",
       "[478952 rows x 6 columns]"
      ]
     },
     "execution_count": 63,
     "metadata": {},
     "output_type": "execute_result"
    }
   ],
   "source": [
    "orders_df"
   ]
  },
  {
   "cell_type": "markdown",
   "id": "short-capability",
   "metadata": {
    "id": "short-capability"
   },
   "source": [
    "### [A1] Verifique se os valores fazem sentido"
   ]
  },
  {
   "cell_type": "code",
   "execution_count": 64,
   "id": "growing-fruit",
   "metadata": {
    "id": "growing-fruit"
   },
   "outputs": [
    {
     "data": {
      "text/plain": [
       "min     0.0\n",
       "max    23.0\n",
       "Name: order_hour_of_day, dtype: float64"
      ]
     },
     "execution_count": 64,
     "metadata": {},
     "output_type": "execute_result"
    }
   ],
   "source": [
    "orders_df['order_hour_of_day'].describe()[['min', 'max']]"
   ]
  },
  {
   "cell_type": "code",
   "execution_count": 65,
   "id": "accessory-malaysia",
   "metadata": {
    "id": "accessory-malaysia"
   },
   "outputs": [
    {
     "data": {
      "text/plain": [
       "min    0.0\n",
       "max    6.0\n",
       "Name: order_dow, dtype: float64"
      ]
     },
     "execution_count": 65,
     "metadata": {},
     "output_type": "execute_result"
    }
   ],
   "source": [
    "orders_df['order_dow'].describe()[['min', 'max']]"
   ]
  },
  {
   "cell_type": "markdown",
   "id": "hmR2GNQ6lCsX",
   "metadata": {
    "id": "hmR2GNQ6lCsX"
   },
   "source": [
    "Escreva suas conclusões aqui"
   ]
  },
  {
   "cell_type": "markdown",
   "id": "6fbf3ad3",
   "metadata": {},
   "source": [
    "**RESPOSTA: Sim, os valores das colunas fazem sentido, uma vez que respeitam os limites de hora do dia (0 hrs à 23 hrs) e o dia da semana (0 a 6, intervalo de 7 valores para 7 dias de semana)**"
   ]
  },
  {
   "cell_type": "markdown",
   "id": "a6743a70",
   "metadata": {
    "id": "a6743a70"
   },
   "source": [
    "### [A2] Quantas pessoas fazem pedidos a cada hora do dia?"
   ]
  },
  {
   "cell_type": "code",
   "execution_count": 66,
   "id": "bd8bc10f",
   "metadata": {},
   "outputs": [],
   "source": [
    "grafico1 = orders_df.groupby('order_hour_of_day')['user_id'].count()"
   ]
  },
  {
   "cell_type": "code",
   "execution_count": 67,
   "id": "1357d284",
   "metadata": {},
   "outputs": [
    {
     "data": {
      "image/png": "[encoded data removed]",
      "text/plain": [
       "<Figure size 640x480 with 1 Axes>"
      ]
     },
     "metadata": {},
     "output_type": "display_data"
    }
   ],
   "source": [
    "grafico1.plot(kind = 'bar',\n",
    "           title = \"Número de pessoas que fazem pedidos a cada hora do dia\",\n",
    "           xlabel = \"Hora do Dia\", \n",
    "           ylabel = \"Nº de Pessoas Que Fazem Pedido\")\n",
    "\n",
    "plt.show()"
   ]
  },
  {
   "cell_type": "markdown",
   "id": "11270eed",
   "metadata": {
    "id": "11270eed"
   },
   "source": [
    "Escreva suas conclusões aqui"
   ]
  },
  {
   "cell_type": "markdown",
   "id": "6911b5f6",
   "metadata": {},
   "source": [
    "**RESPOSTA: Observa-se uma maior quantidade de pedidos entre as 7 e 22 horas, enquanto há um baixo número de pedidos entre às 23 e às 6 horas da manhã.**"
   ]
  },
  {
   "cell_type": "markdown",
   "id": "396372dd",
   "metadata": {},
   "source": [
    "<div class=\"alert alert-success\">\n",
    "<strong>Comentário do revisor v1</strong>\n",
    "\n",
    "Certinho!\n",
    "</div>\n",
    "\n"
   ]
  },
  {
   "cell_type": "markdown",
   "id": "documented-command",
   "metadata": {
    "id": "documented-command"
   },
   "source": [
    "### [A3] Em que dia da semana as pessoas fazem compras?"
   ]
  },
  {
   "cell_type": "code",
   "execution_count": 68,
   "id": "chief-digit",
   "metadata": {
    "id": "chief-digit"
   },
   "outputs": [],
   "source": [
    "grafico2 =  orders_df.groupby('order_dow')['user_id'].count()"
   ]
  },
  {
   "cell_type": "code",
   "execution_count": 69,
   "id": "b8e3745a",
   "metadata": {},
   "outputs": [
    {
     "data": {
      "image/png": "[encoded data removed]",
      "text/plain": [
       "<Figure size 640x480 with 1 Axes>"
      ]
     },
     "metadata": {},
     "output_type": "display_data"
    }
   ],
   "source": [
    "grafico2.plot(kind = 'bar',\n",
    "           title = \"Número de Pessoas que Fazem Compras Por Dia Da Semana\",\n",
    "           xlabel = \"Dia da Semana\", \n",
    "           ylabel = \"Nº de Pessoas Que Fazem Compras\")\n",
    "\n",
    "plt.show()"
   ]
  },
  {
   "cell_type": "markdown",
   "id": "dominant-lightning",
   "metadata": {
    "id": "dominant-lightning"
   },
   "source": [
    "Escreva suas conclusões aqui"
   ]
  },
  {
   "cell_type": "markdown",
   "id": "c1624dca",
   "metadata": {},
   "source": [
    "**Resposta: as pessoas fazem compras principalmente nos domingos e segundas-feira**"
   ]
  },
  {
   "cell_type": "markdown",
   "id": "178f7727",
   "metadata": {},
   "source": [
    "<div class=\"alert alert-success\">\n",
    "<strong>Comentário do revisor v1</strong>\n",
    "\n",
    "Trabalho muito sólido com o projeto! Gostei muito.\n",
    "    \n",
    "    \n",
    "Correto!\n",
    "</div>\n",
    "\n"
   ]
  },
  {
   "cell_type": "markdown",
   "id": "cutting-concert",
   "metadata": {
    "id": "cutting-concert"
   },
   "source": [
    "### [A4] Quanto tempo as pessoas esperam até fazer outro pedido?"
   ]
  },
  {
   "cell_type": "code",
   "execution_count": 70,
   "id": "e0e88226",
   "metadata": {},
   "outputs": [
    {
     "data": {
      "text/plain": [
       "<AxesSubplot:title={'center':'Tempo de Espera Para Um Cliente Fazer Outro Pedido'}, ylabel='Frequency'>"
      ]
     },
     "execution_count": 70,
     "metadata": {},
     "output_type": "execute_result"
    },
    {
     "data": {
      "image/png": "[encoded data removed]",
      "text/plain": [
       "<Figure size 640x480 with 1 Axes>"
      ]
     },
     "metadata": {},
     "output_type": "display_data"
    }
   ],
   "source": [
    "orders_df['days_since_prior_order'].plot(kind = 'hist',\n",
    "                                         bins = 30,\n",
    "                                         title = \"Tempo de Espera Para Um Cliente Fazer Outro Pedido\")"
   ]
  },
  {
   "cell_type": "markdown",
   "id": "discrete-vertex",
   "metadata": {
    "id": "discrete-vertex"
   },
   "source": [
    "Escreva suas conclusões aqui"
   ]
  },
  {
   "cell_type": "markdown",
   "id": "ecbc82e9",
   "metadata": {
    "id": "gMOIimGd5VNb"
   },
   "source": [
    "**RESPOSTA: Percebe-se que o tempo mínimo de espero para um cliente fazer outro pedido é 0 dias, ou seja, a pessoa volta \n",
    "no mesmo dia para realizar uma compra. O valor máximo, por sua vez, é de 30 dias.**\n",
    "    \n",
    "**Ao analisar o gráfico, percebe-se que os clientes costumam retornar a comprar no supermercado após 30 dias e \n",
    "também 8 dias após a última compra, o que indica uma tendência das pessoas em realizarem compras mensais ou semanais.**"
   ]
  },
  {
   "cell_type": "markdown",
   "id": "fea95d7b",
   "metadata": {},
   "source": [
    "<div class=\"alert alert-success\">\n",
    "<strong>Comentário do revisor v1</strong>\n",
    "\n",
    "Boa percepção, de acormdo!\n",
    "</div>\n",
    "\n"
   ]
  },
  {
   "cell_type": "markdown",
   "id": "tight-staff",
   "metadata": {
    "id": "tight-staff"
   },
   "source": [
    "# [B] Médio (é necessário concluir tudo para passar)\n",
    "\n",
    "1.\tHá alguma diferença nas distribuições de `'order_hour_of_day'` nas quartas e sábados? Construa gráficos de barras para ambos os dias no mesmo gráfico e descreva as diferenças que você notou.\n",
    "2.\tConstrua um gráfico de distribuição para o número de pedidos que os clientes fazem (ou seja, quantos clientes fizeram apenas 1 pedido, quantos fizeram apenas 2, quantos apenas 3, etc.)\n",
    "3.\tQuais são os 20 produtos comprados com mais frequência? Exiba os IDs e nomes.\n"
   ]
  },
  {
   "cell_type": "markdown",
   "id": "packed-classic",
   "metadata": {
    "id": "packed-classic"
   },
   "source": [
    "### [B1] Diferenças nas quartas e sábados em `'order_hour_of_day'`. Crie gráficos de barras para ambos os dias e descreva as diferenças."
   ]
  },
  {
   "cell_type": "code",
   "execution_count": 71,
   "id": "d89b8403",
   "metadata": {
    "id": "d89b8403"
   },
   "outputs": [],
   "source": [
    "orders_wednesday = orders_df[orders_df['order_dow'] == 3]['order_hour_of_day'].value_counts().sort_index()"
   ]
  },
  {
   "cell_type": "code",
   "execution_count": 72,
   "id": "7554a187",
   "metadata": {},
   "outputs": [
    {
     "data": {
      "text/plain": [
       "0      373\n",
       "1      215\n",
       "2      106\n",
       "3      101\n",
       "4      108\n",
       "5      170\n",
       "6      643\n",
       "7     1732\n",
       "8     3125\n",
       "9     4490\n",
       "10    5026\n",
       "11    5004\n",
       "12    4688\n",
       "13    4674\n",
       "14    4774\n",
       "15    5163\n",
       "16    4976\n",
       "17    4175\n",
       "18    3463\n",
       "19    2652\n",
       "20    1917\n",
       "21    1450\n",
       "22    1154\n",
       "23     718\n",
       "Name: order_hour_of_day, dtype: int64"
      ]
     },
     "execution_count": 72,
     "metadata": {},
     "output_type": "execute_result"
    }
   ],
   "source": [
    "orders_wednesday"
   ]
  },
  {
   "cell_type": "code",
   "execution_count": 73,
   "id": "94e54e8a",
   "metadata": {
    "id": "94e54e8a"
   },
   "outputs": [],
   "source": [
    "orders_saturday = orders_df[orders_df['order_dow'] == 6]['order_hour_of_day'].value_counts().sort_index()"
   ]
  },
  {
   "cell_type": "code",
   "execution_count": 74,
   "id": "32e7f2ed",
   "metadata": {},
   "outputs": [
    {
     "data": {
      "text/plain": [
       "0      464\n",
       "1      254\n",
       "2      177\n",
       "3      125\n",
       "4      118\n",
       "5      161\n",
       "6      451\n",
       "7     1619\n",
       "8     3246\n",
       "9     4311\n",
       "10    4919\n",
       "11    5116\n",
       "12    5132\n",
       "13    5323\n",
       "14    5375\n",
       "15    5188\n",
       "16    5029\n",
       "17    4295\n",
       "18    3338\n",
       "19    2610\n",
       "20    1847\n",
       "21    1473\n",
       "22    1185\n",
       "23     893\n",
       "Name: order_hour_of_day, dtype: int64"
      ]
     },
     "execution_count": 74,
     "metadata": {},
     "output_type": "execute_result"
    }
   ],
   "source": [
    "orders_saturday"
   ]
  },
  {
   "cell_type": "code",
   "execution_count": 75,
   "id": "71a2bb33",
   "metadata": {},
   "outputs": [],
   "source": [
    "df_wednesday_and_saturday = pd.concat([orders_wednesday,orders_saturday], axis='columns')\n",
    "df_wednesday_and_saturday.columns = ['order_hour_of_day_wednesday','order_hour_of_day_saturday']"
   ]
  },
  {
   "cell_type": "code",
   "execution_count": 76,
   "id": "dfe92745",
   "metadata": {
    "scrolled": true
   },
   "outputs": [
    {
     "data": {
      "text/html": [
       "<div>\n",
       "<style scoped>\n",
       "    .dataframe tbody tr th:only-of-type {\n",
       "        vertical-align: middle;\n",
       "    }\n",
       "\n",
       "    .dataframe tbody tr th {\n",
       "        vertical-align: top;\n",
       "    }\n",
       "\n",
       "    .dataframe thead th {\n",
       "        text-align: right;\n",
       "    }\n",
       "</style>\n",
       "<table border=\"1\" class=\"dataframe\">\n",
       "  <thead>\n",
       "    <tr style=\"text-align: right;\">\n",
       "      <th></th>\n",
       "      <th>order_hour_of_day_wednesday</th>\n",
       "      <th>order_hour_of_day_saturday</th>\n",
       "    </tr>\n",
       "  </thead>\n",
       "  <tbody>\n",
       "    <tr>\n",
       "      <th>0</th>\n",
       "      <td>373</td>\n",
       "      <td>464</td>\n",
       "    </tr>\n",
       "    <tr>\n",
       "      <th>1</th>\n",
       "      <td>215</td>\n",
       "      <td>254</td>\n",
       "    </tr>\n",
       "    <tr>\n",
       "      <th>2</th>\n",
       "      <td>106</td>\n",
       "      <td>177</td>\n",
       "    </tr>\n",
       "    <tr>\n",
       "      <th>3</th>\n",
       "      <td>101</td>\n",
       "      <td>125</td>\n",
       "    </tr>\n",
       "    <tr>\n",
       "      <th>4</th>\n",
       "      <td>108</td>\n",
       "      <td>118</td>\n",
       "    </tr>\n",
       "    <tr>\n",
       "      <th>5</th>\n",
       "      <td>170</td>\n",
       "      <td>161</td>\n",
       "    </tr>\n",
       "    <tr>\n",
       "      <th>6</th>\n",
       "      <td>643</td>\n",
       "      <td>451</td>\n",
       "    </tr>\n",
       "    <tr>\n",
       "      <th>7</th>\n",
       "      <td>1732</td>\n",
       "      <td>1619</td>\n",
       "    </tr>\n",
       "    <tr>\n",
       "      <th>8</th>\n",
       "      <td>3125</td>\n",
       "      <td>3246</td>\n",
       "    </tr>\n",
       "    <tr>\n",
       "      <th>9</th>\n",
       "      <td>4490</td>\n",
       "      <td>4311</td>\n",
       "    </tr>\n",
       "    <tr>\n",
       "      <th>10</th>\n",
       "      <td>5026</td>\n",
       "      <td>4919</td>\n",
       "    </tr>\n",
       "    <tr>\n",
       "      <th>11</th>\n",
       "      <td>5004</td>\n",
       "      <td>5116</td>\n",
       "    </tr>\n",
       "    <tr>\n",
       "      <th>12</th>\n",
       "      <td>4688</td>\n",
       "      <td>5132</td>\n",
       "    </tr>\n",
       "    <tr>\n",
       "      <th>13</th>\n",
       "      <td>4674</td>\n",
       "      <td>5323</td>\n",
       "    </tr>\n",
       "    <tr>\n",
       "      <th>14</th>\n",
       "      <td>4774</td>\n",
       "      <td>5375</td>\n",
       "    </tr>\n",
       "    <tr>\n",
       "      <th>15</th>\n",
       "      <td>5163</td>\n",
       "      <td>5188</td>\n",
       "    </tr>\n",
       "    <tr>\n",
       "      <th>16</th>\n",
       "      <td>4976</td>\n",
       "      <td>5029</td>\n",
       "    </tr>\n",
       "    <tr>\n",
       "      <th>17</th>\n",
       "      <td>4175</td>\n",
       "      <td>4295</td>\n",
       "    </tr>\n",
       "    <tr>\n",
       "      <th>18</th>\n",
       "      <td>3463</td>\n",
       "      <td>3338</td>\n",
       "    </tr>\n",
       "    <tr>\n",
       "      <th>19</th>\n",
       "      <td>2652</td>\n",
       "      <td>2610</td>\n",
       "    </tr>\n",
       "    <tr>\n",
       "      <th>20</th>\n",
       "      <td>1917</td>\n",
       "      <td>1847</td>\n",
       "    </tr>\n",
       "    <tr>\n",
       "      <th>21</th>\n",
       "      <td>1450</td>\n",
       "      <td>1473</td>\n",
       "    </tr>\n",
       "    <tr>\n",
       "      <th>22</th>\n",
       "      <td>1154</td>\n",
       "      <td>1185</td>\n",
       "    </tr>\n",
       "    <tr>\n",
       "      <th>23</th>\n",
       "      <td>718</td>\n",
       "      <td>893</td>\n",
       "    </tr>\n",
       "  </tbody>\n",
       "</table>\n",
       "</div>"
      ],
      "text/plain": [
       "    order_hour_of_day_wednesday  order_hour_of_day_saturday\n",
       "0                           373                         464\n",
       "1                           215                         254\n",
       "2                           106                         177\n",
       "3                           101                         125\n",
       "4                           108                         118\n",
       "5                           170                         161\n",
       "6                           643                         451\n",
       "7                          1732                        1619\n",
       "8                          3125                        3246\n",
       "9                          4490                        4311\n",
       "10                         5026                        4919\n",
       "11                         5004                        5116\n",
       "12                         4688                        5132\n",
       "13                         4674                        5323\n",
       "14                         4774                        5375\n",
       "15                         5163                        5188\n",
       "16                         4976                        5029\n",
       "17                         4175                        4295\n",
       "18                         3463                        3338\n",
       "19                         2652                        2610\n",
       "20                         1917                        1847\n",
       "21                         1450                        1473\n",
       "22                         1154                        1185\n",
       "23                          718                         893"
      ]
     },
     "execution_count": 76,
     "metadata": {},
     "output_type": "execute_result"
    }
   ],
   "source": [
    "df_wednesday_and_saturday"
   ]
  },
  {
   "cell_type": "code",
   "execution_count": 77,
   "id": "797c90a8",
   "metadata": {
    "id": "797c90a8"
   },
   "outputs": [
    {
     "data": {
      "image/png": "[encoded data removed]",
      "text/plain": [
       "<Figure size 640x480 with 1 Axes>"
      ]
     },
     "metadata": {},
     "output_type": "display_data"
    }
   ],
   "source": [
    "df_wednesday_and_saturday.plot(kind = 'bar', \n",
    "                      title = \"Número de Pedidos por Hora nas Segundas-Feiras e Sábados\",\n",
    "                      xlabel = \"Hora do Dia\",\n",
    "                      ylabel = \"Nº de Pedidos\")\n",
    "# orders_saturday.plot(kind = 'bar',\n",
    "#                      alpha = 0.5,\n",
    "#                      color = \"red\")\n",
    "\n",
    "plt.legend(['Wednesday', 'Saturday'])\n",
    "plt.show()"
   ]
  },
  {
   "cell_type": "markdown",
   "id": "charitable-congo",
   "metadata": {
    "id": "charitable-congo"
   },
   "source": [
    "Escreva suas conclusões aqui"
   ]
  },
  {
   "cell_type": "markdown",
   "id": "abc02388",
   "metadata": {
    "id": "35bcea30"
   },
   "source": [
    "**RESPOSTA: Percebe-se um aumento no número de pedidos entre os horários das 10 e 14hrs dos sábados em relação a Quarta-Feira. Além disso, as madrugadas dos sábados também registram leve aumento do número de pedidos.\n",
    "A manhã da Quarta-Feira, por outro lado, registra mais pedidos que nos sábados.**"
   ]
  },
  {
   "cell_type": "markdown",
   "id": "2938f374",
   "metadata": {},
   "source": [
    "<div class=\"alert alert-success\">\n",
    "<strong>Comentário do revisor v1</strong>\n",
    "\n",
    "Bela escolha de plot e diagnóstico!\n",
    "</div>\n",
    "\n"
   ]
  },
  {
   "cell_type": "markdown",
   "id": "e3891143",
   "metadata": {
    "id": "e3891143"
   },
   "source": [
    "### [B2] Qual é a distribuição do número de pedidos por cliente?"
   ]
  },
  {
   "cell_type": "code",
   "execution_count": 78,
   "id": "60640144",
   "metadata": {},
   "outputs": [
    {
     "data": {
      "text/plain": [
       "<AxesSubplot:title={'center':'Número de pedidos por cliente'}, ylabel='Frequency'>"
      ]
     },
     "execution_count": 78,
     "metadata": {},
     "output_type": "execute_result"
    },
    {
     "data": {
      "image/png": "[encoded data removed]",
      "text/plain": [
       "<Figure size 640x480 with 1 Axes>"
      ]
     },
     "metadata": {},
     "output_type": "display_data"
    }
   ],
   "source": [
    "orders_df['order_number'].plot(kind = 'hist',\n",
    "                              title = \"Número de pedidos por cliente\")"
   ]
  },
  {
   "cell_type": "markdown",
   "id": "d2eff7d5",
   "metadata": {
    "id": "d2eff7d5"
   },
   "source": [
    "Escreva suas conclusões aqui"
   ]
  },
  {
   "cell_type": "markdown",
   "id": "6df0a83e",
   "metadata": {},
   "source": [
    "**Resposta: Os clientes costumam fazer no máximo 20 pedidos**"
   ]
  },
  {
   "cell_type": "markdown",
   "id": "2f37f205",
   "metadata": {},
   "source": [
    "<div class=\"alert alert-success\">\n",
    "<strong>Comentário do revisor v1</strong>\n",
    "\n",
    "Correto!\n",
    "</div>\n",
    "\n"
   ]
  },
  {
   "cell_type": "markdown",
   "id": "54a0319c",
   "metadata": {
    "id": "54a0319c"
   },
   "source": [
    "### [B3] Quais são os 20 produtos mais populares? Exiba os IDs e nomes."
   ]
  },
  {
   "cell_type": "code",
   "execution_count": 79,
   "id": "exterior-arizona",
   "metadata": {
    "id": "exterior-arizona",
    "scrolled": true
   },
   "outputs": [],
   "source": [
    "ids_itens_populares = order_product_df['product_id'].value_counts().index[0:20]"
   ]
  },
  {
   "cell_type": "code",
   "execution_count": 80,
   "id": "2b3f7768",
   "metadata": {},
   "outputs": [
    {
     "data": {
      "text/plain": [
       "Int64Index([24852, 13176, 21137, 21903, 47209, 47766, 47626, 16797, 26209,\n",
       "            27845, 27966, 22935, 24964, 45007, 39275, 49683, 28204,  5876,\n",
       "             8277, 40706],\n",
       "           dtype='int64')"
      ]
     },
     "execution_count": 80,
     "metadata": {},
     "output_type": "execute_result"
    }
   ],
   "source": [
    "ids_itens_populares"
   ]
  },
  {
   "cell_type": "code",
   "execution_count": 81,
   "id": "bbcdd20b",
   "metadata": {
    "id": "bbcdd20b"
   },
   "outputs": [
    {
     "data": {
      "text/html": [
       "<div>\n",
       "<style scoped>\n",
       "    .dataframe tbody tr th:only-of-type {\n",
       "        vertical-align: middle;\n",
       "    }\n",
       "\n",
       "    .dataframe tbody tr th {\n",
       "        vertical-align: top;\n",
       "    }\n",
       "\n",
       "    .dataframe thead th {\n",
       "        text-align: right;\n",
       "    }\n",
       "</style>\n",
       "<table border=\"1\" class=\"dataframe\">\n",
       "  <thead>\n",
       "    <tr style=\"text-align: right;\">\n",
       "      <th></th>\n",
       "      <th>product_id</th>\n",
       "      <th>product_name</th>\n",
       "    </tr>\n",
       "  </thead>\n",
       "  <tbody>\n",
       "    <tr>\n",
       "      <th>5741</th>\n",
       "      <td>5876</td>\n",
       "      <td>organic lemon</td>\n",
       "    </tr>\n",
       "    <tr>\n",
       "      <th>8079</th>\n",
       "      <td>8277</td>\n",
       "      <td>apple honeycrisp organic</td>\n",
       "    </tr>\n",
       "    <tr>\n",
       "      <th>12832</th>\n",
       "      <td>13176</td>\n",
       "      <td>bag of organic bananas</td>\n",
       "    </tr>\n",
       "    <tr>\n",
       "      <th>16360</th>\n",
       "      <td>16797</td>\n",
       "      <td>strawberries</td>\n",
       "    </tr>\n",
       "    <tr>\n",
       "      <th>20593</th>\n",
       "      <td>21137</td>\n",
       "      <td>organic strawberries</td>\n",
       "    </tr>\n",
       "    <tr>\n",
       "      <th>21338</th>\n",
       "      <td>21903</td>\n",
       "      <td>organic baby spinach</td>\n",
       "    </tr>\n",
       "    <tr>\n",
       "      <th>22346</th>\n",
       "      <td>22935</td>\n",
       "      <td>organic yellow onion</td>\n",
       "    </tr>\n",
       "    <tr>\n",
       "      <th>24210</th>\n",
       "      <td>24852</td>\n",
       "      <td>banana</td>\n",
       "    </tr>\n",
       "    <tr>\n",
       "      <th>24321</th>\n",
       "      <td>24964</td>\n",
       "      <td>organic garlic</td>\n",
       "    </tr>\n",
       "    <tr>\n",
       "      <th>25528</th>\n",
       "      <td>26209</td>\n",
       "      <td>limes</td>\n",
       "    </tr>\n",
       "    <tr>\n",
       "      <th>27120</th>\n",
       "      <td>27845</td>\n",
       "      <td>organic whole milk</td>\n",
       "    </tr>\n",
       "    <tr>\n",
       "      <th>27238</th>\n",
       "      <td>27966</td>\n",
       "      <td>organic raspberries</td>\n",
       "    </tr>\n",
       "    <tr>\n",
       "      <th>27467</th>\n",
       "      <td>28204</td>\n",
       "      <td>organic fuji apple</td>\n",
       "    </tr>\n",
       "    <tr>\n",
       "      <th>38237</th>\n",
       "      <td>39275</td>\n",
       "      <td>organic blueberries</td>\n",
       "    </tr>\n",
       "    <tr>\n",
       "      <th>39624</th>\n",
       "      <td>40706</td>\n",
       "      <td>organic grape tomatoes</td>\n",
       "    </tr>\n",
       "    <tr>\n",
       "      <th>43786</th>\n",
       "      <td>45007</td>\n",
       "      <td>organic zucchini</td>\n",
       "    </tr>\n",
       "    <tr>\n",
       "      <th>45925</th>\n",
       "      <td>47209</td>\n",
       "      <td>organic hass avocado</td>\n",
       "    </tr>\n",
       "    <tr>\n",
       "      <th>46321</th>\n",
       "      <td>47626</td>\n",
       "      <td>large lemon</td>\n",
       "    </tr>\n",
       "    <tr>\n",
       "      <th>46460</th>\n",
       "      <td>47766</td>\n",
       "      <td>organic avocado</td>\n",
       "    </tr>\n",
       "    <tr>\n",
       "      <th>48327</th>\n",
       "      <td>49683</td>\n",
       "      <td>cucumber kirby</td>\n",
       "    </tr>\n",
       "  </tbody>\n",
       "</table>\n",
       "</div>"
      ],
      "text/plain": [
       "      product_id              product_name\n",
       "5741        5876             organic lemon\n",
       "8079        8277  apple honeycrisp organic\n",
       "12832      13176    bag of organic bananas\n",
       "16360      16797              strawberries\n",
       "20593      21137      organic strawberries\n",
       "21338      21903      organic baby spinach\n",
       "22346      22935      organic yellow onion\n",
       "24210      24852                    banana\n",
       "24321      24964            organic garlic\n",
       "25528      26209                     limes\n",
       "27120      27845        organic whole milk\n",
       "27238      27966       organic raspberries\n",
       "27467      28204        organic fuji apple\n",
       "38237      39275       organic blueberries\n",
       "39624      40706    organic grape tomatoes\n",
       "43786      45007          organic zucchini\n",
       "45925      47209      organic hass avocado\n",
       "46321      47626               large lemon\n",
       "46460      47766           organic avocado\n",
       "48327      49683            cucumber kirby"
      ]
     },
     "execution_count": 81,
     "metadata": {},
     "output_type": "execute_result"
    }
   ],
   "source": [
    "products_df.query('product_id in @ids_itens_populares')[['product_id','product_name']]"
   ]
  },
  {
   "cell_type": "markdown",
   "id": "7df00f47",
   "metadata": {
    "id": "7df00f47"
   },
   "source": [
    "Escreva suas conclusões aqui"
   ]
  },
  {
   "cell_type": "markdown",
   "id": "b59c23af",
   "metadata": {},
   "source": [
    "**RESPOSTA: Todos os 20 itens mais populares são frutas. Isso pode indicar uma mudança no comportamento dos clientes, \n",
    "que estão com práticas mais saudáveis de consumo, ou apenas é um dado esperado uma vez que frutas são compradas sempre em\n",
    "quantidade (não é muito comum vermos um cliente comprando apenas uma banana, não é mesmo?)**"
   ]
  },
  {
   "cell_type": "markdown",
   "id": "ea75e4a2",
   "metadata": {},
   "source": [
    "<div class=\"alert alert-success\">\n",
    "<strong>Comentário do revisor v1</strong>\n",
    "\n",
    "Certinho por aqui!\n",
    "</div>\n",
    "\n"
   ]
  },
  {
   "cell_type": "markdown",
   "id": "gross-theme",
   "metadata": {
    "id": "gross-theme"
   },
   "source": [
    "# [C] Difícil (é necessário concluir pelo menos duas perguntas para passar)\n",
    "\n",
    "1.\tQuantos itens as pessoas normalmente compram em um pedido? Como fica a distribuição?\n",
    "2.\tQuais são os 20 principais itens incluídos mais frequentemente em pedidos repetidos? Exiba os IDs e nomes.\n",
    "3.\tPara cada produto, qual parcela de seus pedidos são repetidos? Crie uma tabela com colunas de ID e nome do produto e a proporção de pedidos repetidos.\n",
    "4.\tPara cada cliente, qual proporção de todos os seus pedidos são repetidos?\n",
    "5.\tQuais são os 20 principais itens que as pessoas colocam nos carrinhos antes de todos os outros? Exiba o ID do produto, nome e o número de vezes que ele foi o primeiro a ser adicionado a um carrinho.\n"
   ]
  },
  {
   "cell_type": "markdown",
   "id": "romantic-deposit",
   "metadata": {
    "id": "romantic-deposit"
   },
   "source": [
    "### [C1] Quantos itens as pessoas normalmente compram em um pedido? Como fica a distribuição?"
   ]
  },
  {
   "cell_type": "code",
   "execution_count": 82,
   "id": "virtual-punch",
   "metadata": {
    "id": "virtual-punch"
   },
   "outputs": [],
   "source": [
    "itens_by_order = order_product_df['order_id'].value_counts()"
   ]
  },
  {
   "cell_type": "code",
   "execution_count": 83,
   "id": "66d41efd",
   "metadata": {},
   "outputs": [
    {
     "data": {
      "text/plain": [
       "61355      127\n",
       "3308010    115\n",
       "2136777    108\n",
       "171934     104\n",
       "1959075     98\n",
       "          ... \n",
       "3076918      1\n",
       "2499566      1\n",
       "556604       1\n",
       "171279       1\n",
       "1461911      1\n",
       "Name: order_id, Length: 450046, dtype: int64"
      ]
     },
     "execution_count": 83,
     "metadata": {},
     "output_type": "execute_result"
    }
   ],
   "source": [
    "itens_by_order"
   ]
  },
  {
   "cell_type": "code",
   "execution_count": 84,
   "id": "be10a647",
   "metadata": {},
   "outputs": [
    {
     "name": "stdout",
     "output_type": "stream",
     "text": [
      "5\n"
     ]
    }
   ],
   "source": [
    "## Quantos itens as pessoas normalmente compram em um pedido?\n",
    "## É preciso obter a moda, isto é, o valor mais frequente nessa distribuição. Para isso, optei por utilizar a função unique() \n",
    "## da biblioteca Numpy para retornar a contagem de vezes que um número de itens em um pedido se repete. Em seguida, utilizei\n",
    "## a função argmax para retornar o índice do valor que mais se repete para filtrar na variável vals, que guarda os valores \n",
    "## do número de itens por pedido.\n",
    "\n",
    "vals, counts = np.unique(itens_by_order.values, return_counts = True)\n",
    "\n",
    "mode = np.argmax(counts)\n",
    "print(vals[mode])"
   ]
  },
  {
   "cell_type": "code",
   "execution_count": 85,
   "id": "sensitive-breathing",
   "metadata": {
    "id": "sensitive-breathing"
   },
   "outputs": [
    {
     "data": {
      "text/plain": [
       "<AxesSubplot:title={'center':'Número de Itens por Pedido'}, ylabel='Frequency'>"
      ]
     },
     "execution_count": 85,
     "metadata": {},
     "output_type": "execute_result"
    },
    {
     "data": {
      "image/png": "[encoded data removed]",
      "text/plain": [
       "<Figure size 640x480 with 1 Axes>"
      ]
     },
     "metadata": {},
     "output_type": "display_data"
    }
   ],
   "source": [
    "itens_by_order.plot(kind = 'hist',\n",
    "                   title = 'Número de Itens por Pedido',\n",
    "                   xlabel = 'Número de Itens',\n",
    "                   ylabel = 'Frequência')"
   ]
  },
  {
   "cell_type": "markdown",
   "id": "designed-mortality",
   "metadata": {
    "id": "designed-mortality"
   },
   "source": [
    "Escreva suas conclusões aqui"
   ]
  },
  {
   "cell_type": "markdown",
   "id": "4a7739a7",
   "metadata": {},
   "source": [
    "**Resposta: Podemos concluir que o número as pessoas normalmente compram 5 itens em um pedido. Além disso, pode-se observar no histograma que é incomum as pessoas realizarem compras com mais de 40 itens. Compras com até 10 itens são as mais frequentes; compras com 11 a 25 itens, inclusive, são comuns; compras entre 26 e 39 itens são ocasionais; e compras com mais de 40 itens são esporádicas.**"
   ]
  },
  {
   "cell_type": "markdown",
   "id": "4aac34fb",
   "metadata": {},
   "source": [
    "<div class=\"alert alert-success\">\n",
    "<strong>Comentário do revisor v1</strong>\n",
    "\n",
    "Perfeito o rabalho aqui!\n",
    "</div>\n",
    "\n"
   ]
  },
  {
   "cell_type": "markdown",
   "id": "5e6b5537",
   "metadata": {
    "id": "5e6b5537"
   },
   "source": [
    "### [C2] Quais são os 20 principais itens incluídos mais frequentemente em pedidos repetidos? Exiba os IDs e nomes."
   ]
  },
  {
   "cell_type": "code",
   "execution_count": 86,
   "id": "9374e55a",
   "metadata": {
    "id": "9374e55a"
   },
   "outputs": [],
   "source": [
    "vinte_repetidos = order_product_df[order_product_df['reordered'] == 1]['product_id'].value_counts()[0:20].index"
   ]
  },
  {
   "cell_type": "code",
   "execution_count": 87,
   "id": "561e2763",
   "metadata": {},
   "outputs": [
    {
     "data": {
      "text/plain": [
       "Int64Index([24852, 13176, 21137, 21903, 47209, 47766, 27845, 47626, 27966,\n",
       "            16797, 26209, 22935, 24964, 45007, 49683, 28204,  8277, 39275,\n",
       "             5876, 49235],\n",
       "           dtype='int64')"
      ]
     },
     "execution_count": 87,
     "metadata": {},
     "output_type": "execute_result"
    }
   ],
   "source": [
    "vinte_repetidos"
   ]
  },
  {
   "cell_type": "code",
   "execution_count": 88,
   "id": "possible-change",
   "metadata": {
    "id": "possible-change",
    "scrolled": true
   },
   "outputs": [],
   "source": [
    "vinte_repetidos_nomes = products_df.query('product_id in @vinte_repetidos')"
   ]
  },
  {
   "cell_type": "code",
   "execution_count": 89,
   "id": "professional-surfing",
   "metadata": {
    "id": "professional-surfing"
   },
   "outputs": [
    {
     "data": {
      "text/html": [
       "<div>\n",
       "<style scoped>\n",
       "    .dataframe tbody tr th:only-of-type {\n",
       "        vertical-align: middle;\n",
       "    }\n",
       "\n",
       "    .dataframe tbody tr th {\n",
       "        vertical-align: top;\n",
       "    }\n",
       "\n",
       "    .dataframe thead th {\n",
       "        text-align: right;\n",
       "    }\n",
       "</style>\n",
       "<table border=\"1\" class=\"dataframe\">\n",
       "  <thead>\n",
       "    <tr style=\"text-align: right;\">\n",
       "      <th></th>\n",
       "      <th>product_id</th>\n",
       "      <th>product_name</th>\n",
       "      <th>aisle_id</th>\n",
       "      <th>department_id</th>\n",
       "    </tr>\n",
       "  </thead>\n",
       "  <tbody>\n",
       "    <tr>\n",
       "      <th>5741</th>\n",
       "      <td>5876</td>\n",
       "      <td>organic lemon</td>\n",
       "      <td>24</td>\n",
       "      <td>4</td>\n",
       "    </tr>\n",
       "    <tr>\n",
       "      <th>8079</th>\n",
       "      <td>8277</td>\n",
       "      <td>apple honeycrisp organic</td>\n",
       "      <td>24</td>\n",
       "      <td>4</td>\n",
       "    </tr>\n",
       "    <tr>\n",
       "      <th>12832</th>\n",
       "      <td>13176</td>\n",
       "      <td>bag of organic bananas</td>\n",
       "      <td>24</td>\n",
       "      <td>4</td>\n",
       "    </tr>\n",
       "    <tr>\n",
       "      <th>16360</th>\n",
       "      <td>16797</td>\n",
       "      <td>strawberries</td>\n",
       "      <td>24</td>\n",
       "      <td>4</td>\n",
       "    </tr>\n",
       "    <tr>\n",
       "      <th>20593</th>\n",
       "      <td>21137</td>\n",
       "      <td>organic strawberries</td>\n",
       "      <td>24</td>\n",
       "      <td>4</td>\n",
       "    </tr>\n",
       "    <tr>\n",
       "      <th>21338</th>\n",
       "      <td>21903</td>\n",
       "      <td>organic baby spinach</td>\n",
       "      <td>123</td>\n",
       "      <td>4</td>\n",
       "    </tr>\n",
       "    <tr>\n",
       "      <th>22346</th>\n",
       "      <td>22935</td>\n",
       "      <td>organic yellow onion</td>\n",
       "      <td>83</td>\n",
       "      <td>4</td>\n",
       "    </tr>\n",
       "    <tr>\n",
       "      <th>24210</th>\n",
       "      <td>24852</td>\n",
       "      <td>banana</td>\n",
       "      <td>24</td>\n",
       "      <td>4</td>\n",
       "    </tr>\n",
       "    <tr>\n",
       "      <th>24321</th>\n",
       "      <td>24964</td>\n",
       "      <td>organic garlic</td>\n",
       "      <td>83</td>\n",
       "      <td>4</td>\n",
       "    </tr>\n",
       "    <tr>\n",
       "      <th>25528</th>\n",
       "      <td>26209</td>\n",
       "      <td>limes</td>\n",
       "      <td>24</td>\n",
       "      <td>4</td>\n",
       "    </tr>\n",
       "    <tr>\n",
       "      <th>27120</th>\n",
       "      <td>27845</td>\n",
       "      <td>organic whole milk</td>\n",
       "      <td>84</td>\n",
       "      <td>16</td>\n",
       "    </tr>\n",
       "    <tr>\n",
       "      <th>27238</th>\n",
       "      <td>27966</td>\n",
       "      <td>organic raspberries</td>\n",
       "      <td>123</td>\n",
       "      <td>4</td>\n",
       "    </tr>\n",
       "    <tr>\n",
       "      <th>27467</th>\n",
       "      <td>28204</td>\n",
       "      <td>organic fuji apple</td>\n",
       "      <td>24</td>\n",
       "      <td>4</td>\n",
       "    </tr>\n",
       "    <tr>\n",
       "      <th>38237</th>\n",
       "      <td>39275</td>\n",
       "      <td>organic blueberries</td>\n",
       "      <td>123</td>\n",
       "      <td>4</td>\n",
       "    </tr>\n",
       "    <tr>\n",
       "      <th>43786</th>\n",
       "      <td>45007</td>\n",
       "      <td>organic zucchini</td>\n",
       "      <td>83</td>\n",
       "      <td>4</td>\n",
       "    </tr>\n",
       "    <tr>\n",
       "      <th>45925</th>\n",
       "      <td>47209</td>\n",
       "      <td>organic hass avocado</td>\n",
       "      <td>24</td>\n",
       "      <td>4</td>\n",
       "    </tr>\n",
       "    <tr>\n",
       "      <th>46321</th>\n",
       "      <td>47626</td>\n",
       "      <td>large lemon</td>\n",
       "      <td>24</td>\n",
       "      <td>4</td>\n",
       "    </tr>\n",
       "    <tr>\n",
       "      <th>46460</th>\n",
       "      <td>47766</td>\n",
       "      <td>organic avocado</td>\n",
       "      <td>24</td>\n",
       "      <td>4</td>\n",
       "    </tr>\n",
       "    <tr>\n",
       "      <th>47893</th>\n",
       "      <td>49235</td>\n",
       "      <td>organic half &amp; half</td>\n",
       "      <td>53</td>\n",
       "      <td>16</td>\n",
       "    </tr>\n",
       "    <tr>\n",
       "      <th>48327</th>\n",
       "      <td>49683</td>\n",
       "      <td>cucumber kirby</td>\n",
       "      <td>83</td>\n",
       "      <td>4</td>\n",
       "    </tr>\n",
       "  </tbody>\n",
       "</table>\n",
       "</div>"
      ],
      "text/plain": [
       "      product_id              product_name aisle_id department_id\n",
       "5741        5876             organic lemon       24             4\n",
       "8079        8277  apple honeycrisp organic       24             4\n",
       "12832      13176    bag of organic bananas       24             4\n",
       "16360      16797              strawberries       24             4\n",
       "20593      21137      organic strawberries       24             4\n",
       "21338      21903      organic baby spinach      123             4\n",
       "22346      22935      organic yellow onion       83             4\n",
       "24210      24852                    banana       24             4\n",
       "24321      24964            organic garlic       83             4\n",
       "25528      26209                     limes       24             4\n",
       "27120      27845        organic whole milk       84            16\n",
       "27238      27966       organic raspberries      123             4\n",
       "27467      28204        organic fuji apple       24             4\n",
       "38237      39275       organic blueberries      123             4\n",
       "43786      45007          organic zucchini       83             4\n",
       "45925      47209      organic hass avocado       24             4\n",
       "46321      47626               large lemon       24             4\n",
       "46460      47766           organic avocado       24             4\n",
       "47893      49235       organic half & half       53            16\n",
       "48327      49683            cucumber kirby       83             4"
      ]
     },
     "execution_count": 89,
     "metadata": {},
     "output_type": "execute_result"
    }
   ],
   "source": [
    "vinte_repetidos_nomes"
   ]
  },
  {
   "cell_type": "markdown",
   "id": "80e70c74",
   "metadata": {
    "id": "80e70c74"
   },
   "source": [
    "Escreva suas conclusões aqui"
   ]
  },
  {
   "cell_type": "markdown",
   "id": "469684b3",
   "metadata": {},
   "source": [
    "**Resposta: Os 20 itens mais frequentes em pedidos repetidos são também os produtos mais populares. Como esses itens são raramente comprados em poucas unidades, é natural que eles sejam os mais frequentemente repetidos.**"
   ]
  },
  {
   "cell_type": "markdown",
   "id": "36ee002d",
   "metadata": {},
   "source": [
    "<div class=\"alert alert-success\">\n",
    "<strong>Comentário do revisor v1</strong>\n",
    "\n",
    "Correto!\n",
    "</div>\n",
    "\n"
   ]
  },
  {
   "cell_type": "markdown",
   "id": "9d312b14",
   "metadata": {
    "id": "9d312b14"
   },
   "source": [
    "### [C3] Para cada produto, qual parcela de todos os pedidos dele são repetidos?"
   ]
  },
  {
   "cell_type": "markdown",
   "id": "3ba80307",
   "metadata": {},
   "source": [
    "<div class=\"alert alert-info\">\n",
    "<strong>Comentário do estudante v1</strong>\n",
    "\n",
    "Minha estratégia aqui foi realizar a contagem da coluna 'reordered' (count), que conta a quantidade de vezes que o produto foi pedido (independente de 0 ou 1), e a soma dos valores da coluna 'reordered'(sum) para cada produto (como reordered é 0 quando não é repetido,o valor somado será justamente a soma das vezes que foi repetido).\n",
    "</div>"
   ]
  },
  {
   "cell_type": "code",
   "execution_count": 90,
   "id": "8ae9f4b1",
   "metadata": {
    "id": "8ae9f4b1"
   },
   "outputs": [],
   "source": [
    "product_repeated = order_product_df.groupby('product_id').agg({'reordered': ['count', 'sum']})"
   ]
  },
  {
   "cell_type": "code",
   "execution_count": 91,
   "id": "social-individual",
   "metadata": {
    "id": "social-individual"
   },
   "outputs": [
    {
     "data": {
      "text/plain": [
       "MultiIndex([('reordered', 'count'),\n",
       "            ('reordered',   'sum')],\n",
       "           )"
      ]
     },
     "execution_count": 91,
     "metadata": {},
     "output_type": "execute_result"
    }
   ],
   "source": [
    "product_repeated.columns"
   ]
  },
  {
   "cell_type": "code",
   "execution_count": 92,
   "id": "a83d0c74",
   "metadata": {},
   "outputs": [],
   "source": [
    "#convertendo a coluna do tipo MultiIndex para Index\n",
    "product_repeated.columns = product_repeated.columns.get_level_values(1)"
   ]
  },
  {
   "cell_type": "code",
   "execution_count": 93,
   "id": "989b16ca",
   "metadata": {},
   "outputs": [],
   "source": [
    "#Renomeando as colunas\n",
    "product_repeated.columns = ['Total', 'Repetidos']"
   ]
  },
  {
   "cell_type": "code",
   "execution_count": 94,
   "id": "be661876",
   "metadata": {},
   "outputs": [
    {
     "data": {
      "text/html": [
       "<div>\n",
       "<style scoped>\n",
       "    .dataframe tbody tr th:only-of-type {\n",
       "        vertical-align: middle;\n",
       "    }\n",
       "\n",
       "    .dataframe tbody tr th {\n",
       "        vertical-align: top;\n",
       "    }\n",
       "\n",
       "    .dataframe thead th {\n",
       "        text-align: right;\n",
       "    }\n",
       "</style>\n",
       "<table border=\"1\" class=\"dataframe\">\n",
       "  <thead>\n",
       "    <tr style=\"text-align: right;\">\n",
       "      <th></th>\n",
       "      <th>Total</th>\n",
       "      <th>Repetidos</th>\n",
       "    </tr>\n",
       "    <tr>\n",
       "      <th>product_id</th>\n",
       "      <th></th>\n",
       "      <th></th>\n",
       "    </tr>\n",
       "  </thead>\n",
       "  <tbody>\n",
       "    <tr>\n",
       "      <th>1</th>\n",
       "      <td>280</td>\n",
       "      <td>158</td>\n",
       "    </tr>\n",
       "    <tr>\n",
       "      <th>2</th>\n",
       "      <td>11</td>\n",
       "      <td>0</td>\n",
       "    </tr>\n",
       "    <tr>\n",
       "      <th>3</th>\n",
       "      <td>42</td>\n",
       "      <td>31</td>\n",
       "    </tr>\n",
       "    <tr>\n",
       "      <th>4</th>\n",
       "      <td>49</td>\n",
       "      <td>25</td>\n",
       "    </tr>\n",
       "    <tr>\n",
       "      <th>7</th>\n",
       "      <td>2</td>\n",
       "      <td>1</td>\n",
       "    </tr>\n",
       "    <tr>\n",
       "      <th>...</th>\n",
       "      <td>...</td>\n",
       "      <td>...</td>\n",
       "    </tr>\n",
       "    <tr>\n",
       "      <th>49684</th>\n",
       "      <td>1</td>\n",
       "      <td>0</td>\n",
       "    </tr>\n",
       "    <tr>\n",
       "      <th>49685</th>\n",
       "      <td>2</td>\n",
       "      <td>1</td>\n",
       "    </tr>\n",
       "    <tr>\n",
       "      <th>49686</th>\n",
       "      <td>24</td>\n",
       "      <td>15</td>\n",
       "    </tr>\n",
       "    <tr>\n",
       "      <th>49687</th>\n",
       "      <td>1</td>\n",
       "      <td>0</td>\n",
       "    </tr>\n",
       "    <tr>\n",
       "      <th>49688</th>\n",
       "      <td>9</td>\n",
       "      <td>1</td>\n",
       "    </tr>\n",
       "  </tbody>\n",
       "</table>\n",
       "<p>45477 rows × 2 columns</p>\n",
       "</div>"
      ],
      "text/plain": [
       "            Total Repetidos\n",
       "product_id                 \n",
       "1             280       158\n",
       "2              11         0\n",
       "3              42        31\n",
       "4              49        25\n",
       "7               2         1\n",
       "...           ...       ...\n",
       "49684           1         0\n",
       "49685           2         1\n",
       "49686          24        15\n",
       "49687           1         0\n",
       "49688           9         1\n",
       "\n",
       "[45477 rows x 2 columns]"
      ]
     },
     "execution_count": 94,
     "metadata": {},
     "output_type": "execute_result"
    }
   ],
   "source": [
    "product_repeated"
   ]
  },
  {
   "cell_type": "code",
   "execution_count": 95,
   "id": "103e7fe1",
   "metadata": {
    "id": "103e7fe1"
   },
   "outputs": [],
   "source": [
    "product_repeated['Parcela'] = product_repeated['Repetidos']/product_repeated['Total']"
   ]
  },
  {
   "cell_type": "code",
   "execution_count": 96,
   "id": "3b192174",
   "metadata": {},
   "outputs": [
    {
     "data": {
      "text/plain": [
       "product_id\n",
       "13282    1.0\n",
       "21891    1.0\n",
       "21718    1.0\n",
       "41017    1.0\n",
       "41015    1.0\n",
       "        ... \n",
       "6840     0.0\n",
       "30634    0.0\n",
       "6842     0.0\n",
       "30631    0.0\n",
       "7727     0.0\n",
       "Name: Parcela, Length: 45477, dtype: object"
      ]
     },
     "execution_count": 96,
     "metadata": {},
     "output_type": "execute_result"
    }
   ],
   "source": [
    "product_repeated['Parcela'].sort_values(ascending = False)"
   ]
  },
  {
   "cell_type": "code",
   "execution_count": 97,
   "id": "57b51796",
   "metadata": {
    "scrolled": true
   },
   "outputs": [
    {
     "data": {
      "text/plain": [
       "count     45477.0\n",
       "unique     6118.0\n",
       "top           0.0\n",
       "freq       9319.0\n",
       "Name: Parcela, dtype: float64"
      ]
     },
     "execution_count": 97,
     "metadata": {},
     "output_type": "execute_result"
    }
   ],
   "source": [
    "product_repeated['Parcela'].describe()"
   ]
  },
  {
   "cell_type": "markdown",
   "id": "2acd1654",
   "metadata": {},
   "source": [
    "**Resposta: Observando as descrições numéricas, pode-se tirar algumas conclusões interessantes. Por exemplo, a parcela mínima é de 0, o que significa que alguns itens nunca foram recomprados pelos clientes. Além disso, a média é 0.38, o que significa que em média 38% dos produtos são compras repetidas. Curiosamente,ainda, o valor máximo da parcela é de 1.0, o que significa que alguns produtos registram 100% das suas compras como repetidas. Veja abaixo quais são esses itens:**"
   ]
  },
  {
   "cell_type": "code",
   "execution_count": 98,
   "id": "1f481afe",
   "metadata": {},
   "outputs": [
    {
     "data": {
      "text/html": [
       "<div>\n",
       "<style scoped>\n",
       "    .dataframe tbody tr th:only-of-type {\n",
       "        vertical-align: middle;\n",
       "    }\n",
       "\n",
       "    .dataframe tbody tr th {\n",
       "        vertical-align: top;\n",
       "    }\n",
       "\n",
       "    .dataframe thead th {\n",
       "        text-align: right;\n",
       "    }\n",
       "</style>\n",
       "<table border=\"1\" class=\"dataframe\">\n",
       "  <thead>\n",
       "    <tr style=\"text-align: right;\">\n",
       "      <th></th>\n",
       "      <th>Total</th>\n",
       "      <th>Repetidos</th>\n",
       "      <th>Parcela</th>\n",
       "    </tr>\n",
       "    <tr>\n",
       "      <th>product_id</th>\n",
       "      <th></th>\n",
       "      <th></th>\n",
       "      <th></th>\n",
       "    </tr>\n",
       "  </thead>\n",
       "  <tbody>\n",
       "    <tr>\n",
       "      <th>154</th>\n",
       "      <td>1</td>\n",
       "      <td>1</td>\n",
       "      <td>1.0</td>\n",
       "    </tr>\n",
       "    <tr>\n",
       "      <th>173</th>\n",
       "      <td>1</td>\n",
       "      <td>1</td>\n",
       "      <td>1.0</td>\n",
       "    </tr>\n",
       "    <tr>\n",
       "      <th>174</th>\n",
       "      <td>1</td>\n",
       "      <td>1</td>\n",
       "      <td>1.0</td>\n",
       "    </tr>\n",
       "    <tr>\n",
       "      <th>193</th>\n",
       "      <td>1</td>\n",
       "      <td>1</td>\n",
       "      <td>1.0</td>\n",
       "    </tr>\n",
       "    <tr>\n",
       "      <th>230</th>\n",
       "      <td>3</td>\n",
       "      <td>3</td>\n",
       "      <td>1.0</td>\n",
       "    </tr>\n",
       "    <tr>\n",
       "      <th>...</th>\n",
       "      <td>...</td>\n",
       "      <td>...</td>\n",
       "      <td>...</td>\n",
       "    </tr>\n",
       "    <tr>\n",
       "      <th>49625</th>\n",
       "      <td>1</td>\n",
       "      <td>1</td>\n",
       "      <td>1.0</td>\n",
       "    </tr>\n",
       "    <tr>\n",
       "      <th>49639</th>\n",
       "      <td>1</td>\n",
       "      <td>1</td>\n",
       "      <td>1.0</td>\n",
       "    </tr>\n",
       "    <tr>\n",
       "      <th>49657</th>\n",
       "      <td>1</td>\n",
       "      <td>1</td>\n",
       "      <td>1.0</td>\n",
       "    </tr>\n",
       "    <tr>\n",
       "      <th>49661</th>\n",
       "      <td>1</td>\n",
       "      <td>1</td>\n",
       "      <td>1.0</td>\n",
       "    </tr>\n",
       "    <tr>\n",
       "      <th>49662</th>\n",
       "      <td>1</td>\n",
       "      <td>1</td>\n",
       "      <td>1.0</td>\n",
       "    </tr>\n",
       "  </tbody>\n",
       "</table>\n",
       "<p>1803 rows × 3 columns</p>\n",
       "</div>"
      ],
      "text/plain": [
       "            Total Repetidos Parcela\n",
       "product_id                         \n",
       "154             1         1     1.0\n",
       "173             1         1     1.0\n",
       "174             1         1     1.0\n",
       "193             1         1     1.0\n",
       "230             3         3     1.0\n",
       "...           ...       ...     ...\n",
       "49625           1         1     1.0\n",
       "49639           1         1     1.0\n",
       "49657           1         1     1.0\n",
       "49661           1         1     1.0\n",
       "49662           1         1     1.0\n",
       "\n",
       "[1803 rows x 3 columns]"
      ]
     },
     "execution_count": 98,
     "metadata": {},
     "output_type": "execute_result"
    }
   ],
   "source": [
    "product_repeated[product_repeated['Parcela'] == 1]"
   ]
  },
  {
   "cell_type": "code",
   "execution_count": 99,
   "id": "b2f0474c",
   "metadata": {},
   "outputs": [
    {
     "data": {
      "text/html": [
       "<div>\n",
       "<style scoped>\n",
       "    .dataframe tbody tr th:only-of-type {\n",
       "        vertical-align: middle;\n",
       "    }\n",
       "\n",
       "    .dataframe tbody tr th {\n",
       "        vertical-align: top;\n",
       "    }\n",
       "\n",
       "    .dataframe thead th {\n",
       "        text-align: right;\n",
       "    }\n",
       "</style>\n",
       "<table border=\"1\" class=\"dataframe\">\n",
       "  <thead>\n",
       "    <tr style=\"text-align: right;\">\n",
       "      <th></th>\n",
       "      <th>order_id</th>\n",
       "      <th>product_id</th>\n",
       "      <th>add_to_cart_order</th>\n",
       "      <th>reordered</th>\n",
       "    </tr>\n",
       "  </thead>\n",
       "  <tbody>\n",
       "    <tr>\n",
       "      <th>581391</th>\n",
       "      <td>2864983</td>\n",
       "      <td>230</td>\n",
       "      <td>3</td>\n",
       "      <td>1</td>\n",
       "    </tr>\n",
       "    <tr>\n",
       "      <th>983446</th>\n",
       "      <td>1692052</td>\n",
       "      <td>230</td>\n",
       "      <td>1</td>\n",
       "      <td>1</td>\n",
       "    </tr>\n",
       "    <tr>\n",
       "      <th>1281752</th>\n",
       "      <td>1474770</td>\n",
       "      <td>230</td>\n",
       "      <td>1</td>\n",
       "      <td>1</td>\n",
       "    </tr>\n",
       "  </tbody>\n",
       "</table>\n",
       "</div>"
      ],
      "text/plain": [
       "        order_id product_id  add_to_cart_order reordered\n",
       "581391   2864983        230                  3         1\n",
       "983446   1692052        230                  1         1\n",
       "1281752  1474770        230                  1         1"
      ]
     },
     "execution_count": 99,
     "metadata": {},
     "output_type": "execute_result"
    }
   ],
   "source": [
    "## Exemplo de item com todas as compras com reordered = 1\n",
    "order_product_df[order_product_df['product_id'] == 230]"
   ]
  },
  {
   "cell_type": "markdown",
   "id": "I10dEIAyldcO",
   "metadata": {
    "id": "I10dEIAyldcO"
   },
   "source": [
    "Escreva suas conclusões aqui"
   ]
  },
  {
   "cell_type": "markdown",
   "id": "d5bf83c2",
   "metadata": {},
   "source": [
    "**Resposta: 1803 produtos só possuem registros de compras repetidas. Sabe-se que em algum momento esse item foi comprado pela primeira vez e, portanto, era esperado um registro onde o valor para _reordered_ fosse igual a 0 (nunca comprado antes).**"
   ]
  },
  {
   "cell_type": "markdown",
   "id": "587eb204",
   "metadata": {},
   "source": [
    "<div class=\"alert alert-danger\">\n",
    "<strong>Comentário do revisor v1</strong>\n",
    "\n",
    "Aqui não ficou clara pra mim a sua linha de raciocínio...\n",
    "</div>\n",
    "\n"
   ]
  },
  {
   "cell_type": "markdown",
   "id": "c62f0964",
   "metadata": {},
   "source": [
    "<div class=\"alert alert-info\">\n",
    "<strong>Comentário do estudante v1</strong>\n",
    "\n",
    "Dividi a resposta em duas células para tentar deixar o raciocínio mais claro.\n",
    "</div>"
   ]
  },
  {
   "cell_type": "markdown",
   "id": "subject-boxing",
   "metadata": {
    "id": "subject-boxing"
   },
   "source": [
    "### [C4] Para cada cliente, qual proporção de todos os seus pedidos são repetidos?"
   ]
  },
  {
   "cell_type": "code",
   "execution_count": null,
   "id": "eb883304",
   "metadata": {},
   "outputs": [],
   "source": []
  },
  {
   "cell_type": "markdown",
   "id": "BgJSvXDsleXz",
   "metadata": {
    "id": "BgJSvXDsleXz"
   },
   "source": [
    "Escreva suas conclusões aqui"
   ]
  },
  {
   "cell_type": "markdown",
   "id": "92d35137",
   "metadata": {
    "id": "92d35137"
   },
   "source": [
    "### [C5] Quais são os 20 principais itens que as pessoas colocam nos carrinhos antes de todos os outros?"
   ]
  },
  {
   "cell_type": "code",
   "execution_count": null,
   "id": "0ae57274",
   "metadata": {
    "id": "0ae57274",
    "scrolled": true
   },
   "outputs": [],
   "source": []
  },
  {
   "cell_type": "code",
   "execution_count": null,
   "id": "forty-netherlands",
   "metadata": {
    "id": "forty-netherlands",
    "scrolled": true
   },
   "outputs": [],
   "source": []
  },
  {
   "cell_type": "code",
   "execution_count": null,
   "id": "08e41ec2",
   "metadata": {
    "id": "08e41ec2"
   },
   "outputs": [],
   "source": []
  },
  {
   "cell_type": "markdown",
   "id": "28ce9872",
   "metadata": {
    "id": "28ce9872"
   },
   "source": [
    "Escreva suas conclusões aqui"
   ]
  },
  {
   "cell_type": "markdown",
   "id": "TisH_5Cp3wAi",
   "metadata": {
    "id": "TisH_5Cp3wAi"
   },
   "source": [
    "# Conclusão geral do projeto:"
   ]
  },
  {
   "cell_type": "markdown",
   "id": "72b2a9f1",
   "metadata": {
    "id": "Nk-4GS7mDwqY"
   },
   "source": [
    "**Resposta: Esse projeto possibilitou tirar conclusões importantes acerca do comportamento do consumidor do Instacart. São elas:**\n",
    "\n",
    "1. Tendência das pessoas em realizar compras semanalmente ou mensalmente, sobretudo nos domingos e segundas-feiras.\n",
    "2. Número muito reduzido de vendas em horários não comerciais, sobretudo nas madrugadas;\n",
    "3. A venda de frutas é muito comum. Contudo, não é possível concluir se há um aumento no número de frutas vendidas visto o aumento da cultura _fitness_ ou se essa quantidade de vendas sempre foi comum . Para isso, é preciso considerar dados históricos (dos últimos 5 anos, pelo menos) para comparar e observar uma tendência no aumento desse consumo.\n",
    "4. Os pedidos costumam ter quase sempre entre 0 a 40 itens\n",
    "\n",
    "**Esses dados ajudam muito na tomada de decisão dos responsáveis pelo instacart. Por exemplo, o número de funcionários ativos para suporte pode ser reduzido nas madrugas, visto o número reduzido de vendas; ou, ainda, os funcionários podem ser treinados para atenderem em tempo hábil compras de até 40 volumes, visto que essas são as compras mais comuns no mercado. De fato, o histograma de número de itens por pedido com certeza motivou o surgimento dos \"caixas rápidos\" em mercados físicos, por exemplo. Uma vez que a grande maioria dos pedidos possuem até 20 volumes, faz sentido atender mais rapidamente essas demandas em prol de um bom fluxo de atendimento.**"
   ]
  },
  {
   "cell_type": "markdown",
   "id": "8d8db6e2",
   "metadata": {},
   "source": [
    "\n",
    "<div class=\"alert alert-danger\">\n",
    "<strong>Comentário do revisor v1</strong>\n",
    "\n",
    "Estamos no caminho certo com essa versão, mas retocar os pontos indicados acima nos fará chegar em um resultado ainda mais incrível.\n",
    "    \n",
    "Conte comigo para ajudá-lo (a) em qualquer questão que possa vir a ter! Lembre-se de usar as caixas azuis para se comunicar comigo.\n",
    "    \n",
    "Até breve.\n",
    "</div>\n"
   ]
  },
  {
   "cell_type": "code",
   "execution_count": null,
   "id": "3ca2b9ab",
   "metadata": {},
   "outputs": [],
   "source": []
  }
 ],
 "metadata": {
  "colab": {
   "provenance": []
  },
  "kernelspec": {
   "display_name": "Python 3 (ipykernel)",
   "language": "python",
   "name": "python3"
  },
  "language_info": {
   "codemirror_mode": {
    "name": "ipython",
    "version": 3
   },
   "file_extension": ".py",
   "mimetype": "text/x-python",
   "name": "python",
   "nbconvert_exporter": "python",
   "pygments_lexer": "ipython3",
   "version": "3.9.13"
  },
  "toc": {
   "base_numbering": 1,
   "nav_menu": {},
   "number_sections": true,
   "sideBar": true,
   "skip_h1_title": true,
   "title_cell": "Table of Contents",
   "title_sidebar": "Contents",
   "toc_cell": false,
   "toc_position": {},
   "toc_section_display": true,
   "toc_window_display": false
  },
  "vscode": {
   "interpreter": {
    "hash": "01a7be9ec63e704a62cefc5fe7a4756944464ee731be31632bdf42a4cb4688cf"
   }
  }
 },
 "nbformat": 4,
 "nbformat_minor": 5
}
